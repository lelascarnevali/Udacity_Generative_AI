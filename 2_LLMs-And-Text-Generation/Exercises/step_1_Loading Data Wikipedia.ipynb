{
 "cells": [
  {
   "cell_type": "markdown",
   "id": "a06f9e37",
   "metadata": {},
   "source": [
    "# Step 1: Preparing a Dataset with Embeddings"
   ]
  },
  {
   "cell_type": "markdown",
   "id": "a4c4c0d4",
   "metadata": {},
   "source": [
    "Add your API key to the cell below then run it."
   ]
  },
  {
   "cell_type": "code",
   "execution_count": 2,
   "id": "e61cb2a2",
   "metadata": {},
   "outputs": [
    {
     "name": "stdout",
     "output_type": "stream",
     "text": [
      "Digite sua API Key: ········\n"
     ]
    }
   ],
   "source": [
    "import openai\n",
    "import getpass\n",
    "\n",
    "openai.api_base = \"https://openai.vocareum.com/v1\"\n",
    "openai.api_key = getpass.getpass(\"Digite sua API Key: \").strip()"
   ]
  },
  {
   "cell_type": "markdown",
   "id": "d3afc763",
   "metadata": {},
   "source": [
    "## Loading the Data\n",
    "\n",
    "We are using the `requests` library ([documentation here](https://requests.readthedocs.io/en/latest/user/quickstart/)) to get the text of a page from Wikipedia using the `extracts` API feature ([documentation here](https://www.mediawiki.org/w/api.php?action=help&modules=query%2Bextracts)). You can ignore the details of the `params` being sent — the important takeaway is that **`response_dict` is a Python dictionary containing the the response to our query**.\n",
    "\n",
    "Run the cell below as-is."
   ]
  },
  {
   "cell_type": "code",
   "execution_count": 3,
   "id": "a1de826b",
   "metadata": {},
   "outputs": [],
   "source": [
    "import requests\n",
    "\n",
    "# Get the Wikipedia page for the 2023 Turkey–Syria earthquake\n",
    "params = {\n",
    "    \"action\": \"query\", \n",
    "    \"prop\": \"extracts\",\n",
    "    \"exlimit\": 1,\n",
    "    \"titles\": \"2023_Turkey–Syria_earthquakes\",\n",
    "    \"explaintext\": 1,\n",
    "    \"formatversion\": 2,\n",
    "    \"format\": \"json\"\n",
    "}\n",
    "resp = requests.get(\"https://en.wikipedia.org/w/api.php\", params=params)\n",
    "response_dict = resp.json()"
   ]
  },
  {
   "cell_type": "code",
   "execution_count": 4,
   "id": "ca51f704",
   "metadata": {},
   "outputs": [
    {
     "data": {
      "text/plain": [
       "{'batchcomplete': True,\n",
       " 'query': {'normalized': [{'fromencoded': False,\n",
       "    'from': '2023_Turkey–Syria_earthquakes',\n",
       "    'to': '2023 Turkey–Syria earthquakes'}],\n",
       "  'pages': [{'pageid': 72956318,\n",
       "    'ns': 0,\n",
       "    'title': '2023 Turkey–Syria earthquakes',\n",
       "    'extract': 'On 6 February 2023, at 04:17 TRT (01:17 UTC), a Mw 7.8 earthquake struck southern and central Turkey and northern and western Syria. The epicenter was 37 km (23 mi) west–northwest of Gaziantep. The earthquake had a maximum Mercalli intensity of XII (Extreme) around the epicenter and in Antakya. It was followed by a Mw\\u202f7.7 earthquake at 13:24. This earthquake was centered 95 km (59 mi) north-northeast from the first. There was widespread damage and tens of thousands of fatalities.\\nThe Mw\\u202f7.8 earthquake is the largest in Turkey since the 1939 Erzincan earthquake of the same magnitude, and jointly the second-largest in the country, after larger estimates for the 1668 North Anatolia earthquake. It is also one of the strongest earthquakes ever recorded in the Levant. It was felt as far as Egypt and the Black Sea coast of Turkey. There were more than 30,000 aftershocks in the three months that followed. The seismic sequence was the result of shallow strike-slip faulting along segments of the Dead Sea Transform, East Anatolian and Sürgü–Çardak faults.\\nThere was widespread damage in an area of about 350,000 km2 (140,000 sq mi), about the size of Germany. An estimated 14 million people, or 16 percent of Turkey\\'s population, were affected. Development experts from the United Nations estimated that about 1.5 million people were left homeless.\\nThe confirmed death toll in Turkey was 53,537; estimates of the number of dead in Syria were between 5,951 and 8,476. It is the deadliest earthquake in what is now present-day Turkey since the 526 Antioch earthquake and the deadliest natural disaster in its modern history. It is also the deadliest in present-day Syria since the 1822 Aleppo earthquake; the deadliest earthquake or natural disaster in general since the 2010 Haiti earthquake; and the fifth-deadliest earthquake of the 21st century. Damages were estimated at US$148.8 billion in Turkey, or nine-percent of the country\\'s GDP, and US$9 billion in Syria.\\nDamaged roads, winter storms, and disruption to communications hampered the Disaster and Emergency Management Presidency\\'s rescue and relief effort, which included a 60,000-strong search-and-rescue force, 5,000 health workers and 30,000 volunteers. Following Turkey\\'s call for international help, more than 141,000 people from 94 countries joined the rescue effort.\\n\\n\\n== Tectonic setting ==\\n\\n\\n=== Geology ===\\n\\nCentral southern Turkey and northwestern Syria are affected by the interaction between three tectonic plates; the African plate, Arabian plate and Anatolian sub-plate. The boundary between the African and Arabian plates is represented by the Dead Sea Transform (DST)—a major zone of left-lateral strike-slip fault—it accommodates the relative northward movement of Arabia with respect to Africa. The northern end of the DST truncates at the East Anatolian Fault (EAF), another major left-lateral strike-slip fault zone that accommodates the overall westward movement of the Anatolian plate as it is extruded in that direction by the northward movement of the Arabian plate. The DST and EAF meet at the Marash triple junction. The EAF continues west of the triple junction, forming the boundary between the African and Anatolian plates, linking into the Cyprus arc to the west via the Latakia Ridge.\\nThe 700 km-long (430 mi) EAF is subdivided into seven segments, from the northeast; the Karlıova, Ilıca, Palu, Pütürge, Erkenek, Pazarcık and Amanos segments. The Amanos segment is also considered part of the DST by some geologists, or a transitional structure between the EAF and DST by others. A northern strand to the EAF has also been recognized, including the Sürgü, Çardak, Savrun, Çokak, Toprakkale, Yumurtalık, Karataş, Yakapınar and Düziçi–İskenderun segments. The estimated slip rate on the main strand of the EAF system decreases south-westwards from 10 mm (0.39 in) per year on the Karlıova segment down to 2.9 mm (0.11 in) per year on the Amanos segment. On the northern strand, a slip rate of 2.5 mm (0.098 in) per year was estimated on the Çardak segment. The Sürgü-Çardak Fault is an east–west striking 160 km (99 mi) long fault that runs north of the EAF. It branches away from the EAF west of Çelikhan and extends westwards to Göksun. Comprising two segments; the Sürgü Fault runs 70 km (43 mi) between Çelikhan and Nurhak; the Çardak Fault runs 90 km (56 mi) between Nurhak and Göksun. Seismicity on the fault is low—the only associated earthquake was a M 6.8 event in 1544.\\nThe northern part of the DST is subdivided into several segments, although there is some disagreement between scientists as to which faults should be assigned to the DST and which to the EAF, at the northernmost end of the structure. Following the 2013 \"Active Fault Map of Turkey\", seven DST segments are recognized in Turkey and neighbouring parts of Syria; the Afrin, Sermada, Armanaz, Hacıpaşa, Yesemek, Sakçagöz and Narlı segments.\\n\\n\\n=== Seismicity ===\\nThe EAF has produced large or damaging earthquakes in the past few hundred years along various segments, including the 1789 (M 7.2, Palu), 1795 (M 7.0, Pazarcık), 1866 (M 7.2 Karlıova), 1872 (M 7.2, Amanos), 1874 (M 7.1, Palu), 1875 (M 6.7, Palu), 1893 (M 7.1, Erkenek), 1971 (M6.6, Karlıova) and 2020 (M 6.8, Pütürge) events. Other large historical earthquakes have been tentatively assigned to segments of the EAF, such as the 1114 and 1513 Marash earthquakes, both thought to have ruptured the Pazarcık segment.\\nThe Palu and Pütürge segments in the east display a recurrence interval of about 150 years for M 6.8–7.0 earthquakes. The Pazarcık and Amanos segments in the west have recurrence intervals of 237–772 years and 414–917 years, respectively, for M 7.0–7.4 earthquakes. A research paper published by Earth and Planetary Science Letters in 2002 studied stress accumulation and increased seismic hazard along the East Anatolian Fault. The study concluded two sections of the fault with a considerably high potential for future earthquakes. One of these sections was in Elazığ and Bingöl, located between the rupture zones of the 1874 and 1971 earthquakes. The seismic gap ruptured during a Mw\\u202f 6.1 earthquake in 2010. The 2020 Mw\\u202f 6.8 earthquake ruptured to the southwest between the 1893/1905 and 1874 earthquakes. Another seismic gap was located in Kahramanmaraş—this 103 km (64 mi) long section—according to the study, believed to last rupture in 1513 has the potential to produce magnitude 7.3 earthquakes.\\nLarge earthquakes on the northern part of the DST include events in 115, 526, 587, 1138, 1170 and 1822, which resulted in several tens of thousands to several hundreds of thousands of fatalities.\\n\\n\\n== Earthquake sequence ==\\n\\nThe first and largest earthquake in the sequence struck at 01:17 UTC. The United States Geological Survey (USGS) and Global Centroid Moment Tensor (GCMT) measured it at Mww\\u202f7.8 and Mw\\u202f7.8, respectively. GEOSCOPE reported Mw\\u202f8.0 and Kandilli Observatory (KOERI) reported Mw\\u202f7.7 and ML\\u202f7.4. It had an epicenter 34 km (21 mi) west of Gaziantep in Gaziantep Province, which is near the border with Syria. The earthquake hypocenter was at a depth of 10.0 km (6 mi) according to USGS and 5 km (3 mi) according to KOERI. The shock had a focal mechanism corresponding to strike-slip faulting.\\nIt is one of the strongest ever recorded in Turkey, equivalent in magnitude to the 1939 Erzincan earthquake (Mw\\u202f7.8). These earthquakes are surpassed only by the larger estimates for the 1668 North Anatolia earthquake. Globally it was the strongest recorded since August 2021.\\n\\nAt 10:24 UTC, an earthquake measuring Mww\\u202f7.5 according to USGS, Mw\\u202f7.6 according to KOERI, or Mw\\u202f7.7 according to Geoscope and the GCMT, struck with an epicenter near Ekinözü, 95 km northeast of the M7.8 event. It had a depth of 7.4 km (5 mi) according to the USGS, 5 km (3 mi) by KOERI, and 13 km (8 mi) by Geoscope. The shock was also the result of strike-slip faulting; it had an epicenter north of the previous large earthquake.\\nA reevaluation of the earthquakes using long-period coda moment magnitude obtained Mw\\u202f 7.95 ± 0.013 and Mw\\u202f 7.86 ± 0.012, respectively. These earthquakes were some of the largest Turkish earthquakes in over 2,000 years. Both earthquakes are the largest and only observed to occur on land within a short span of time.\\n\\n\\n=== Aftershocks ===\\n\\nOver 570 aftershocks were recorded within 24 hours of the Mw\\u202f7.8 earthquake and over 30,000 recorded by May 2023. An aftershock measuring Mww\\u202f6.7 occurred about 11 minutes after the mainshock. There were 25 aftershocks Mw\\u202f4.0 or greater recorded within six hours of the main tremor, according to the USGS. More than 12 hours later, the USGS had reported at least 54 aftershocks of 4.3 or greater magnitude, while the Turkish Disaster and Emergency Management Presidency (AFAD) recorded at least 120 total aftershocks.\\nThe Mw\\u202f 7.8 earthquake had aftershocks distributed along about 350 km (220 mi) of the EAF. A Mww\\u202f6.3 aftershock struck near Uzunbağ in Hatay Province on 20 February; the earthquake was the result of oblique-normal faulting. This Mww\\u202f6.3 event produced an independent cluster of aftershocks with a similar focal mechanism. Aftershocks from the sequence also occurred in the Gulf of Alexandretta, consistent with a northwest–southeast striking fault that produced the large aftershock. This aftershock occurred because the Mw\\u202f7.8 event transferred sufficient on another normal fault sufficient for it to fail.\\nThe Mw\\u202f7.7 earthquake triggered its own aftershock sequence, including two mb 6.0 aftershocks. Aftershocks of the second earthquake continued through at least 9 February. Thousands of aftershocks associated with this earthquake were distributed along an east–west trend corresponding to the Çardak Fault for about 170 km (110 mi).\\n\\n\\n=== Seismology ===\\n\\nA source model for the Mww\\u202f7.8 earthquake produced by the USGS from observed seismic waves, taking into account preliminary rupture mapping from satellite data, uses three fault segments with individual lengths, widths, strikes and dips of >40 km (25 mi) × 30 km (19 mi), 028°/85° (Segment 1), >175 km (109 mi) × 30 km (19 mi), 060°/85° (Segment 2) and >160 km (99 mi) × 20 km (12 mi), 025°/75° (Segment 3). The mainshock produced a maximum slip of 11.2 m (37 ft) along Segment 2, beneath Sakarya in Kahramanmaraş Province, northeast of the junction where it meets Segment 1. Another zone of large slip estimated at 4.96 m (16.3 ft) occurred further northeast along Segment 2, northwest of Adıyaman.\\nThe USGS source model for the Mw\\u202f7.7 earthquake which struck nine hours later has three large fault segments with individual lengths, widths, strikes and dips of >70 km (43 mi) × >20 km (12 mi), 276°/80° (Segment 1), >40 km (25 mi) × >20 km (12 mi), 250°/80° (Segment 2) and ~80 km (50 mi) × >20 km (12 mi), 060°/80° (Segment 3). Maximum displacement occurred on Segment 1 at 11.4 m (37 ft).\\nThree segments of the EAF were involved in the Mw\\u202f 7.8 rupture; the Amanos, Pazarcık and Erkenek segments. The earthquake ruptured ~370 km (230 mi) of the EAF, producing a maximum slip of up to ~12 m (39 ft) along the Pazarcık segment. The northern end of the rupture was about 20–30 km (12–19 mi) south of the Mw\\u202f 6.8 earthquake that struck in 2020. This section of the EAF, the Pütürge segment, between both earthquakes, may represent a seismic gap. The southern segment of the EAF rupture was at its termination, near Antakya. Slip peaked at 12 m (39 ft) from the surface to 7 km (4.3 mi) depth during the Mw\\u202f 7.7 earthquake; slip was 11 m (36 ft) at the surface. Slip along the fault was compact—mostly confined to within the Çardak Fault; it was also shallower—attenuating from 8–12 km (5.0–7.5 mi). Slip during the Mw\\u202f 7.8 event extended to 18 km (11 mi) and 12 km (7.5 mi) for the Mw\\u202f 7.7 event. The Mw\\u202f 6.4 aftershock that struck Antakya on 20 February had a rupture area of 25 km (16 mi) × 25 km (16 mi) and produced a peak slip of 0.93 m (3 ft 1 in) at 8.3 km (5.2 mi) depth.\\nPreliminary analysis of the effects of stress changes caused by the M7.8 earthquake on the Çardak–Sürgü Fault, based on the USGS fault model, indicated up to 3 bars of added stress near the epicenter of the M7.7 shock, sufficient to trigger rupture on that zone, assuming that it was already close to failure. Stress on the Hatay Fault, source of the 20 February Mw\\u202f 6.4 aftershock, increased by 1 bar following the 6 February earthquakes.\\n\\n\\n=== Rupture propagation ===\\n\\nPreliminary analysis based on seismology and observations of surface rupture suggest rupture along a branch of the DST before transitioning onto the EAF where most of the faulting was observed. The initial rupture at the site of the epicenter of the M7.8 shock on the Narlı Fault, the northernmost section of the DST. The fault ruptured unilaterally northwards until it reached the Pazarcık segment of the East Anatolian Fault. Ruptures then continued bilaterally to the northeast and southwest along this segment. This subevent on the Narlı Fault corresponded to a Mw\\u202f 7.0 earthquake which ruptured for 20 seconds. It had a focal mechanism corresponding to oblique-normal faulting. A preliminary analysis of near-field (within 1 km (0.62 mi) of the fault rupture) seismic records indicates that the initial rupture speed transitioned to supershear after propagating about 19.5 km (12.1 mi) away from the epicenter along the Narlı Fault before it reached the EAF. Back projection suggests the total rupture length was ~560 km (350 mi).\\nThe rupture continued northeast onto the Ekernek segment and to the southwest onto the Amanos segment. The northeastern rupture ceased 55 seconds after initiation while the southwestern rupture ceased near Antakya about 80 seconds later. A Mw\\u202f6.8 aftershock occurring 11 minutes later and west of the first M>7 epicenter may have ruptured along the Sakçagöz Fault, the next segment of the DST to the south. Rupture along the EAF during the event occurred at subshear velocity (maximum 3.2 km (2.0 mi) per second). An analysis of near-field seismic data revealed transient supershear rupture episodes throughout the EAF rupture. Supershear rupture occurred along the northernmost section of the Narlı Fault where it meets the EAF. The rupture transitioned onto the EAF and propagated northeast at supershear velocity until its termination near Malatya. Rupture towards the southwest was mostly subshear, but at the southern termination in Hatay, where the fault has multiple branches and kinks, supershear was likely observed. Supershear rupture at the southern termination contributed to the intense ground motion in Antakya.\\nThe second M>7 earthquake initiated on a separate fault known as the Çardak–Sürgü Fault Zone, part of the northern strand of the East Anatolian Fault. The rupture propagated bilaterally along the Çardak segment, continuing eastwards onto the Sürgü segment before continuing eastwards to Malatya along the northeast–southwest trending Doğanşehir Fault Zone. Rupture also propagated towards the southwest along the Çardak segment. The total rupture length was estimated at 160 km (99 mi). The westward-propagating rupture occurred at supershear velocity (maximum 4.8 km (3.0 mi) per second) while the eastward-propagating rupture occurred at subshear velocity (maximum 2.8 km (1.7 mi) per second). The rupture lasted about 35 seconds.\\nThe Mw\\u202f 6.4 aftershock on 20 February occurred along the Hatay Fault. The focal mechanism indicated normal faulting along a northeast–southwest striking fault.\\n\\n\\n=== Surface rupture ===\\n\\nThe extent of surface ruptures associated with the M7.8 and M7.7 earthquakes have been mapped using a mixture of satellite imagery and ground observations. Pixel matching on images captured by Sentinel-1 before and after the earthquakes showed sharp discontinuities in displacement, revealing two separate zones of surface rupture. The longer of the pair, produced by the first earthquake, measured 320 km (200 mi) while the second earthquake produced 150 km (93 mi) of surface rupture. These observations were backed up with direct imaging of the ruptures using other satellite data, such as from the DigitalGlobe\\'s WorldView-1, 2 & 3 and GeoEye-1, and by field work. The surface rupture and focal mechanism during the first subevent on the Narlı Fault also indicated a large normal faulting component.\\nThe zone of surface rupture extended from north of Antakya, Hatay Province towards Pazarcık, Kahramanmaraş Province and Gölbaşı, Adıyaman Province. Surface ruptures continued north of these cities. Surface rupture occurred in the Amik Valley. The westernmost part of Hatay Airport was damaged by surface ruptures but cracks in the runway were attributed to ground deformation. A major canal was damaged and lead to flooding in parts of the Amik Valley which was formerly Lake Amik. Field observations indicate a maximum displacement of 7.3 m (24 ft) on the surface. Geologists traced a 15 km (9.3 mi) surface rupture trending south from Pazarcık with an offset of 2.5 m (8 ft 2 in). From Golbasi to Nurdağı ground displacements were up to 5 m (16 ft). The surface rupture observed during the M7.8 earthquake was unusually large, comparable to that during the 1906 San Francisco earthquake along the San Andreas Fault.\\nLarge surface offsets of 6–8 m (20–26 ft) were observed along the Sürgü-Çardak Fault. Along a road west of Gözpınar, the rupture displaced the road left-laterally for 8.6 m (28 ft). The largest maximum surface offset was 10.0–12.6 m (32.8–41.3 ft); one of the largest surface offsets ever observed from an earthquake.\\n\\n\\n=== Ground motion ===\\n\\nGround acceleration values recorded in some areas near the fault rupture were in excess of 1 g. Three USGS seismic installations, two at Antakya and one at Hassa, recorded large ground accelerations and velocities. The town of Hassa recorded 0.9082 g in ground acceleration (pga) and 215.34 cm/s (84.78 in/s) in ground velocity. The station data corresponded to a Modified Mercalli intensity of X (Extreme). A peak ground acceleration of 1.62 g was recorded by a station at Fevzipaşa. The peak ground acceleration generally exceeded 0.5 g in a large area around the epicenter, near Adiyaman and a large part of Hatay. High pga values of 2 g were recorded in Hatay. The maximum recorded pga was 2.212 g at a station in Pazarcık Belediyesi Parkı, Pazarcık; a government health facility nearby had limited damage but the surrounding town was devastated. The maximum recorded pga during the Mw\\u202f 7.7 earthquake was 0.59 g at Göksun.\\nAccording to Kandilli Observatory, the maximum Mercalli intensity (MMI) of the mainshock was estimated to have reached MMI XI–XII (Extreme) in Antakya and near the epicenter. MMI XI (Extreme) or higher was observed along the fault rupture from the epicenter to Antakya. The MMI also reached IX–X (Violent–Extreme) in Kahramanmaraş and İskenderun, VIII–IX (Severe–Violent) in Malatya and Adıyaman, VII–VIII (Very strong–Severe) in Gaziantep, Kilis, Idlib and Aleppo, and VI–VII (Strong–Very strong) in Adana and Şanlıurfa. The maximum MMI of the second earthquake was XI (Extreme).\\n\\n\\n=== Geological effects ===\\n\\nLiquefaction was identified via satellite and remote sensing along the southern portion of the Mw\\u202f7.8 rupture on the East Anatolian Fault from Antakya to Gölbaşı. Liquefaction and lateral spreading were observed at and near coastal areas, fluvial valleys and drained lake or swamp areas, covered by Holocene sediments. These effects were widespread in the Amik Valley and Orontes River plain, north of Antakya, Hatay Province. Limited observations were made in high-elevation areas due to snow cover and lack of satellite observations. Liquefaction was also observed in Samandağ. At Lake Gölbaşı, Adıyaman Province, lateral spreading occurred along the northern, eastern and southern coast. Parts of the lakeshore were also submerged. Gölbaşı was also damaged by liquefaction and lateral spreading.\\n\\nSubsidence due to lateral spreading caused extensive damage in İskenderun. Liquefaction produced sand ejecta that buried Atatürk Boulevard in Çay District. Regular flooding in the city was observed after the earthquakes. Earlier flooding may be attributed to liquefaction while subsequent occurrences may be due to damage to the coast and water infrastructure. The sea inundated parts of the city by as much as 200 m (660 ft). Large areas of the coast and sections of piers were flooded due to lateral spreading. Large waves from bad weather and a tsunami may have contributed to the effects observed at İskenderun.\\nBoth earthquakes caused shaking levels (≥0.12\\u202fg) sufficient for landslide-triggering across a 90,000 km2 (35,000 sq mi) area. About 3,673 earthquake-triggered landslides were identified using satellite imagery, aerial photos, and one field survey of the area. Landslides mainly occurred in the northern region of the affected area. Rockslides were the most commonly observed; there were also many bedrock rotational landslides, translational slides and lateral spreads. Surface ruptures propagating through hillsides also triggered landslides. These landslides blocked roads and river channels, destroyed or seriously damaged buildings and caused many deaths.\\nOne of the largest landslides occurred near Tepehan village, Hatay Province; a translational slide which detached a block 1.3 km2 (0.50 sq mi). This landslide occurred in a region comprising marl and clay-rich limestone. It produced a 20 m (66 ft) vertical displacement along its scarp. ITV News reported the landslide scarp was up to 1,000 ft (300 m) long and \"wider than a football pitch\" in some areas.\\n\\n\\n=== Tsunami ===\\nDespite an epicenter 90 km (56 mi) inland, a tsunami was recorded in the Mediterranean Sea. It was the first recorded tsunami in the eastern Mediterranean Sea region since the one produced by the 1953 ML\\u202f 6.2 earthquake in Cyprus. The largest wave measured 40 cm (16 in) along the Mediterranean coast of Turkey. Although no underwater surveys results have been made available to identify the sources of these tsunamis, they were likely produced by landsliding at Iskenderun Port and liquefaction on the coastal flatlands of Antakya.\\nSmall tsunami waves were recorded off the coast of Famagusta, Cyprus, without damage. The tsunami measured 0.17 m (6.7 in), and tsunami waves were recorded at 0.12 m (4.7 in) at İskenderun and 0.13 m (5.1 in) at Erdemli. Tsunami warnings were issued for the southern Turkish coast, southern and eastern Italian coasts and the whole eastern Mediterranean Sea area, but later withdrawn.\\n\\n\\n=== Effects on other faults ===\\nThe earthquake rupture terminated near Suvatlı in the Amik Valley, where some 10.5 km (6.5 mi) to its east is the Hacıpaşa Fault, a Dead Sea Transform segment. The rupture was arrested by a stepover that connects the East Anatolian Fault with the Hacıpaşa Fault. Though it did not rupture, the Coulomb stress increased on the Hacıpaşa Fault. With a combination of the increases stress, 600–900 years without major earthquakes, and an annual slip rate of 5 mm (0.20 in), it is a potential source of magnitude 7.0 or greater earthquakes. The accumulated slip along this segment is estimated at 3–9 m (9.8–29.5 ft). An earthquake \"domino effect\" remains plausible along the Dead Sea Transform beginning with the Hacıpaşa Fault, as observed along the North Anatolian Fault, where successive earthquakes have migrated westwards along the fault since 1939.\\n\\n\\n== Casualties and damages ==\\n\\n\\n=== In Turkey ===\\n\\nThere were 53,537 deaths and 107,213 injured across 11 of the 17 affected provinces of Turkey. About 140 people remain missing; 118 in Hatay Province. At least 15.73 million people and 4 million buildings were affected. More than 2 million residents in the affected provinces were evacuated to nearby provinces including Mersin, Antalya, Mardin, Niğde and Konya. At least 518,009 houses and over 345,000 apartments were destroyed. More than 20 percent of Turkey\\'s agriculture production was affected. The United Nations said crops, livestock, fisheries, aquaculture and rural infrastructure were heavily damaged. At least 516 university buildings were affected, of which 106 were heavily damaged.\\nBy 23 February 2023, the Ministry of Environment, Urbanization and Climate Change conducted damage inspections for 1.25 million buildings; revealing 164,000 buildings were either destroyed or severely damaged. Another inspection carried out in March revealed that 1,411,304 housing units sustained light to moderate damage. Over 150,000 commercial infrastructure were at least moderately damaged. The International Organization for Migration estimated over 2.7 million people were made homeless. Additionally, the International Labour Organization estimated that 658,000 workers in Turkey and 170,000 others in Syria had lost their jobs as a result of the earthquake, increasing risks of poverty and child labour. A damage assessment by the Turkish government revealed at least 61,722 buildings had to be demolished including 11,900 in Gaziantep Province, 10,900 in Hatay Province, 10,800 in Kahramanmaraş Province and 36,046 in Malatya Province. Broad fissures appeared on roads. During recovery efforts, body parts were often found in the rubble.\\nIn Adana, 12 buildings collapsed in the city center, 23 were badly damaged and 120 were moderately damaged. Three apartments were among the buildings that were destroyed in the city; the collapse of the 14-storey Alpargün Apartment in Çukurova resulted in 96 deaths. Across Adana Province, damage assessments revealed 59 buildings, 1,274 apartments and 2,952 houses were destroyed, severely damaged or required demolition. \\nAt least 300 buildings were razed in Malatya. Sixty percent of the city\\'s buildings received damage. Nearly every neighborhood of the city was affected by collapsed buildings. Out of the 968 mosques in the city, 25 were destroyed and 420 others were damaged. Two hotels collapsed in Malatya, causing many casualties. The ceiling of Malatya Erhaç Airport experienced a partial collapse, as did the historic Yeni Camii mosque. Damage was also reported at the Arslantepe Mound. In Akçadağ, 29 people died, 93 were injured, 32 buildings collapsed and 78 were seriously damaged. At least 263 deaths were reported in Doğanşehir, where roughly 6,000 of the 12,000 buildings collapsed or suffered heavy damage.\\nAcross Gaziantep Province, 12,964 buildings, 31,522 apartments and 29,155 houses collapsed, were severely damaged or required demolition, while 486,779 other structures, including 256,748 houses, 196,199 apartments and 33,832 buildings had been damaged. Many historical sites were severely damaged, such as Gaziantep Castle, Şirvani Mosque and Liberation Mosque. The city recorded 16,211 collapses and buildings which were severely damaged or required demolition. In the city center, at least 154 people died after a four-story building collapsed; four other collapsed buildings left another 102 dead. In Nizip, at least 51 people were killed when a six-story apartment building collapsed. Gaziantep Oğuzeli Airport was forced to restrict its service to rescue flights.\\nIn Nurdağı, nearly 2,500 people died and about 50 percent of the houses were badly damaged or destroyed. An additional 30 percent of its building stock received moderate damage. Mass graves were created to bury the overwhelming number of dead. The collapse of one apartment building in the district center killed 150 people. Ninety percent of houses were heavily damaged or destroyed in Sakçagözü, and 256 people died. On 13 February, it was announced that due to the extreme damage observed in Nurdağı, that all buildings in the district would be demolished and rebuilt. In İslahiye, there were 1,368 deaths, over 1,500 injuries and more than 200 destroyed apartments. There were over 130 deaths in Sulumağara; 200 in Altınüzüm; and 300–400 in Keküklü. Six train carriages at a maintenance station overturned, after rockslides obstructed a railroad near Fevzipaşa Railway Station.\\n\\nIn Hatay Province, 13,517 buildings collapsed, 8,162 required demolition and 67,346 were heavily damaged, along with 215,255 houses. The districts of Antakya, Kırıkhan and İskenderun were the most affected. In Antakya, 70 percent of homes and 6,369 buildings collapsed, 3,734 had to be demolished and 21,830 were badly damaged. The runway at Hatay Airport was split and uplifted, causing flight cancellations. The Ankara Metropolitan Municipality completed repairs on the airport on 12 February, allowing its reopening. Two provincial hospitals and a police station were destroyed, and a gas pipeline exploded. The building that housed the assembly of Hatay State was destroyed, as was St. Paul\\'s Church and the Habib\\'i Neccar Mosque, while damage occurred at the Antakya Synagogue and the Hatay Archaeology Museum. Several dozen buildings in Güzelburç district and nearly every house in the central and Cebrail districts collapsed. Most of the squad and coaching staff of the local football club Hatayspor were initially trapped in the collapse of their headquarters in Antakya before being rescued, with player Christian Atsu and sporting director Taner Savut dying. At least 982 buildings were destroyed, 8,894 others were badly damaged and 943 had to be demolished in Defne. In Reyhanlı, 318 buildings collapsed and 1,661 others were severely damaged or required demolition. In Kumlu, 131 buildings were destroyed, 738 others were severely damaged and 84 others required demolition. At least 58 buildings collapsed and 669 others were badly damaged or had to be demolished in Payas.\\nThe collapse of the luxury Rönesans Rezidans apartment trapped an estimated 800 people, killing at least 269 and leaving 46 missing as presumed dead. In May 2023, an investigation by The New York Times found that inadequate design and safety lapses may have contributed to its collapse. An engineer revealed to the newspaper; \"the building violated the basic tenets of engineering,\" after inspecting its blueprints. Contractors of the building said they adhered to building regulations but those were not enough against the earthquake.\\nThe 13-storey apartment block consists of three closely spaced buildings linked externally, but not structurally; when the collapse occurred, all three buildings separated. The basement, two-storey parking space was considered the \"strongest part\" of the complex as it had more concrete walls than other parts of the structure. The building\\'s exterior walls and those that separated units and rooms consisted of heavy masonry which may have prevented the structure from swaying and possibly held the building mostly intact despite toppling. The building was considered a soft story structure as the ground floor had fewer masonry walls which meant it was at greater risk of damage from seismic ground motion. Among other factors were that the core concrete columns which housed the elevator systems were situated along the north side which left the south side vulnerable without adequate support. Another reason was that beams emerging from either side of the building were misaligned and did not connect to each other. These features may have contributed to the building overturning onto its south side.\\n\\nIn İskenderun, Hatay Province, a large fire at the port was reported on 6 February at 17:00, believed to have originated from a container carrying flammable industrial oil, forcing the port\\'s closure and the diversion of many ships. It was extinguished on 6 and 8 February, only for it to reignite the next day each time. It was finally extinguished on 10 February. A total of 3,670 containers were destroyed by the fire and the port managing authority said it would take three months for operations to resume. The city saw 534 buildings collapse, 337 requiring demolition and 4,622 receiving severe damage. Flooding occurred along the city shoreline, inundating streets up to 200 m (660 ft) inland. The Cathedral of the Annunciation, seat of the Roman Catholic Apostolic Vicariate of Anatolia, was almost completely destroyed. At least 3,109 people died in the city and over 12,000 were injured. \\nIn Samandağ, 670 buildings collapsed, 9,212 were badly damaged or required demolition and 7,850 people died. In Kırıkhan District, 1,886 buildings collapsed and 7,190 others were severely damaged or required demolition; the district recorded approximately 3,000 fatalities, 5,000 injuries and many more missing. In the village of Bektashli, 49 people died after their homes collapsed due to severe rockfalls. A section of the Kırıkhan-Reyhanlı highway near Akpınar was severely damaged and buckled. In Erzin District, 31 buildings collapsed and 897 were heavily damaged or had to be demolished. However, there were no collapses or major damage in Erzin, the largest town in the district. Multiple factors including strict building codes prevented destruction. An estimated 20,000 people fled to Erzin, increasing its population by about 50 percent. At least 700 people died, 187 buildings collapsed, 2,176 others were badly damaged and 194 others had to be demolished in Arsuz. However, like in Erzin, numerous people fled to the district, resulting in the district\\'s population tripling by June 2023. At least 1,046 buildings collapsed and 3,452 others were severely damaged or had to be demolished in Hassa District, where 400 people were killed. In Altınözü, 838 buildings were destroyed, 3,892 others were badly damaged and 650 others required demolition. There were 213 collapsed buildings and 1,453 others had been severely damaged or had to be demolished in Yayladağı. At least 139 buildings collapsed, 755 others were badly damaged and 87 others had to be demolished in Belen. In Dörtyol, 115 buildings were destroyed and 2,030 others had to be demolished or were severely damaged.\\n\\nMass burials occurred in Kahramanmaraş for more than 5,000 bodies. A city official said the mass grave would eventually be the burial ground for 10,000 bodies. Around 75 percent of the city\\'s buildings were damaged or destroyed. In Türkoğlu, 1,171 buildings collapsed and 4,500 others required demolition. At least 413 people were killed, 379 were injured and 872 buildings collapsed in Pazarcık District. At Ordekdede, a village in the district, 34 people died and almost all single-story buildings were decimated, with none of the village\\'s 140 houses structurally stable.\\nIn Elbistan, 1,038 people died, 3,000 were injured and 2,000 buildings were destroyed. At least 11 people died, 107 houses were destroyed and 70 percent of the building stock were damaged in Ekinözü. In Afşin, at least 180 people died. At least 335 buildings including 90 in the city center were destroyed. The Afşin-Elbistan Thermal Power Plant was also damaged. In Ericek, a village in Göksun, 95 percent of homes were affected and 152 died. In Nurhak, there were around 200 deaths and all houses were severely damaged.\\n\\nIn Adıyaman Province, over 20,000 buildings and 56,256 houses were destroyed. In the city of Adıyaman, four neighborhoods were razed. Many buildings along Atatürk Boulevard collapsed. The city hall, a 6th-century mosque and Gölbaşı District\\'s state hospital were also destroyed. Isias Hotel, the largest hotel in the city, also collapsed, killing 65 people. Up to 10 percent of Adıyaman\\'s population perished. The mayor of Kömür said the Karapınar and Bahçelievler neighborhoods were nearly destroyed. In the nearby village of Yaylakonak, 270 of the 280 homes were destroyed and 107 people died, including 32 children.\\nDestruction also occurred in Barbaros, Sümerevler and Karapınar districts. In Harmanlı, Gölbaşı, 80–90 percent of it was destroyed. The second earthquake destroyed three buildings in the province. In Gölbaşı, 71 percent of the town\\'s infrastructure was damaged or destroyed and 695 people were killed with over 400 injured, including 286 deaths in the town center. There were also 410 deaths in Besni District, about 90 percent of them in the town itself. At least 103 people were killed and dozens more were injured in Çelikhan District, including 11 in Avaspi and 10 in Pınarbaşı, Çelikhan. In Kurucuova village, 100 deaths and 10 missing were recorded while in Kâhta, 55 people died.\\nIn Diyarbakir Province, 8,602 houses were severely damaged or destroyed, and 124,432 others were partially damaged. Additionally, 8,086 buildings were damaged, required demolition or collapsed. Diyarbakır Fortress, a UNESCO World Heritage Site, was also partly destroyed. The adjacent World Heritage Site of Hevsel Gardens and St. George\\'s Church were also damaged. Part of the Galeria complex in Yenişehir, which included a shopping mall and dozens of apartments collapsed, killing 89 and injuring 22.\\n\\nAt least 466 buildings were heavily damaged in Şanlıurfa Province; 201 were destroyed. Structures around the Pool of Abraham were damaged. The minaret at the religious shrine partially collapsed, sending rubble into the pools below and discoloring the water, which was also contaminated by seeping sewage. In Eyyübiye District, the minaret of the Eyüp Prophet Mosque was damaged and removed. Thirty-three people were killed in the collapse of the Osman Ağan Apartment.\\nIn Osmaniye Province, of the 22,841 buildings surveyed, 2,531 were heavily damaged, destroyed or required demolition. Additionally, 16,111 houses collapsed or were badly damaged. Nearly half of the affected buildings were included in Osmaniye city, where 1,088 of the 13,667 buildings examined in Merkez District were destroyed, seriously damaged or needed to be demolished. In Düziçi, 192 buildings were destroyed or required demolition, with the collapse of a single building killing 41 people, including 29 Syrians. Many additional buildings were also destroyed or needed to be demolished in the province, including 174 in Bahçe, 111 in Kadirli, 87 in Hasanbeyli, 19 in Toprakkale and 13 in Sumbas.\\nIn Kilis Province, 448 buildings were destroyed and 138 others were heavily damaged, along with 2,514 houses. Karamelik was the worst-affected area, with virtually the entire village being razed to the ground and cars being buried beneath collapsed houses. Damage assessments in Elazığ Province showed that 10,156 households and 664 buildings collapsed or were severely damaged, with minor-to-moderate damage being recorded in 32,673 homes; One of the damaged buildings collapsed in the second earthquake. Compared to neighboring provinces, damage and casualties were much less severe as most of the buildings in Elazığ received updated guidelines after the 2020 Elazığ earthquake. \\nIn Batman Province, 218 buildings were damaged and 15 more collapsed. In Mardin Province, 59 buildings were heavily damaged and another 190 were slightly damaged and a death related to a heart attack occurred in Kızıltepe District. In Bingöl Province, several houses cracked and some livestock were killed by collapsing barns. In Samsun, damage occurred in Samsun Stadium. In Kayseri Province, eight buildings collapsed, while 5,252 others were damaged to some extent. Several houses were damaged and a barn collapsed in Muş Province. In Sivas Province, the second earthquake destroyed a few houses. In Giresun Province, a five-story building was damaged and evacuated. \\nThe dead included member of the Grand National Assembly of Turkey for Adıyaman Yakup Taş, Yeni Malatyaspor goalkeeper Ahmet Eyüp Türkaslan, former Turkish national handball team player Cemal Kütahya and his five-year-old son, and Saul Cenudioğlu, leader of the Jewish community in Antakya, who died along with his wife. Former MP for Kahramanmaraş Sıtkı Güvenç died from earthquake injuries on 9 February. Three Turkish soldiers died during rescue operations. Twenty-six local journalists, four doctors, 120 police officers and 32 gendarmeries were among the dead.\\n\\n\\n=== In Syria ===\\n\\nAccording to Turkish-backed officials on 2 February 2024, 4,537 people died in rebel-held areas while 1,414 died in government-controlled areas. The International Blue Crescent placed the death toll in Syria at 8,476. The Syrian Ministry of Health said over 2,248 died, most were in Aleppo and Latakia. In rebel-held areas, at least 4,547 people died. In a report by the International Medical Corps dated 8 March 2023, 7,259 people were confirmed dead.\\nOver 14,500 were also injured in Syria. Among the dead included 2,153 children and 1,524 women. The Syrian Network for Human Rights stated 73 medics, five media personnel, 62 workers in humanitarian agencies, and four civil defense personnel were among the dead. The Syrian Observatory for Human Rights said additional dead were buried before being registered and some victims died in hospitals. Syria\\'s National Earthquake Centre said the earthquake is \"the biggest earthquake recorded\" in its operational history.\\nAn estimated 5.37 million people across Syria may have been made homeless, while 10.9 million people, nearly half of Syria\\'s population, were affected. More than 123 residential areas, villages, towns and cities were badly damaged. Many power plants, water facilities, hospitals and public infrastructure also sustained damage. At least 453 schools were damaged. Across the country, 22,452 housing units were destroyed and 62,878 others were damaged.\\nHundreds were killed in the town of Atarib. In Jindires, over 1,100 people were killed and at least 250 buildings were razed; among the deaths were a family of seven—the only survivor was a newborn. In Jableh, at least 283 people died, 173 were injured and 19 buildings collapsed. Four bodies were recovered and 15 bodies were in the process of recovery during debris clearance on 10 February. On 11 February, six bodies were retrieved from the rubble of a collapsed house along al-Maliyeh Street. Civilians were stuck under the rubble for hours due to the lack of rescue teams in several villages such as Atarib, Besnaya, Jindires, Maland, Salqin and Sarmada. In Latakia Governorate, 142,000 people were affected; at least 805 people died and 1,131 others were injured. The region\\'s governor said 105 buildings were destroyed, 247 were at risk of collapse and 900 others were severely damaged. At Latakia University, ten students, three employees and a professor died. At least 48 people were killed in Hama, of which 43 were from the collapse of an eight-story building.\\nCracks appeared in the Afrin Dam, and on 9 February, the it burst, flooding the village of Al-Tloul, which was exacerbated by heavy rains along the Afrin River basin. Nearly all its residents fled; about 500 families were displaced. In Atarib, 148 bodies arrived at an underground hospital. A doctor at the hospital said some bodies were missing their head or limbs. Various archaeological sites in Tartus Governorate were damaged, including the Khawabi Castle and Aleika Castle. Damage to historical towers and infrastructure were also reported in Tartus and Safita.\\nThe Syrian American Medical Society\\'s president, Amjad Rass, said emergency rooms were packed with injured. In Idlib Governorate, one hospital received 30 bodies. In the village of Azmarin, Idlib Governorate, at least 260 people died, 300 were injured, and 100 were rescued. Fifteen buildings in the village were leveled and about 50 percent of its housing stock had cracks. Footballer Nader Joukhadar, who played for the Syria national football team, died alongside his son when their home collapsed in Jableh.\\n\\nAccording to the International Rescue Committee, the earthquake struck when rebel-held areas were preparing for a blizzard and experiencing a cholera outbreak. In Aleppo, dozens of buildings collapsed and at least 444 people died, including 163 children. By 8 February, the bodies of 210 victims were returned to their families. The Directorate-General of Antiquities and Museums said various archeological sites across the city were extensively cracked or collapsed. Cracks were also reported in the outer façade of the Aleppo National Museum. In Atarib, Aleppo, the Syrian American Medical Society hospital said 120 bodies were recovered. About 20,000 homes were affected in Aleppo, leaving 70,000 homeless. Total damage in the city exceeded US$403 million. In Rajo, the doors and walls of a prison facility cracked. Twenty prisoners, believed to be Islamic State (ISIS) members, escaped the facility.\\nIn Damascus, many people fled from their homes onto the streets. In the northern parts of the city, many buildings were cracked. Many buildings in Syria had already been damaged by an almost 12-year-long civil war. The Crusader-built castle Margat suffered damage, with part of a tower and parts of some walls collapsing. Cracks also opened up in the walls of the Krak des Chevaliers castle. The Citadel of Aleppo was also affected. In addition, one of the towers of Sahyun Castle near Latakia was destroyed. The minaret of the Grand Mosque in Kobanî was also damaged.\\n\\n\\n=== Foreign casualties ===\\n\\nAt least 6,600 Syrians residing in Turkey were killed. According to Turkey\\'s Presidency of Migration Management 1.75 million Syrians live in southern Turkey; 460,150 in Gaziantep; 354,000 in Antakya; 368,000 in Şanlıurfa; 250,000 in Adana. Turkey\\'s health ministry returned the bodies of 1,793 Syrian victims to their relatives in Syria, while thousands of Syrians were buried in Turkey due to difficulties transporting them to Syria. At least 11 Iraqi war refugees died in Turkey.\\nAt least 100 Afghans were killed by the earthquake in Turkey, mostly refugees who fled the country after the Taliban takeover in August 2021. Among the Lebanese fatalities was an entire family of three in Malatya. Ten Azerbaijanis were killed in Turkey, including four students in Malatya. An Italian family of six, and an entrepreneur also perished. Nineteen students, two teachers and a parent from Northern Cyprus died when the Isias Hotel in Adıyaman collapsed. Seven other Turkish Cypriots died in Hatay and Kahramanmaraş.\\n\\n\\n=== Effects in other countries ===\\nIn Lebanon, residents were awakened from their sleep. Buildings in the country shook for up to 40 seconds. In Beirut, residents fled their homes and stayed in streets or drove in their vehicles to flee from buildings. The earthquake damaged 16,200 buildings across the country, including 10,460 in Beirut and 4,000 in Tripoli.\\nIn Ashdod, Israel, a building was evacuated after cracks were observed in a pillar, and Champion Motors Tower in Bnei Brak was slightly damaged by the second earthquake. In Nicosia, Cyprus, some windows cracked, and the wall of a house collapsed, damaging two nearby vehicles. Six Cuvier\\'s beaked whales were found dead along the island\\'s northern coast on 10 February. The Department of Fisheries and Marine Research said there was a possible link between the beaching and earthquake as these whales\\' echolocation system are affected by sea disturbances.\\nThe European-Mediterranean Seismological Centre said shaking was felt in Armenia, Egypt, Palestine, Georgia, Greece, Iraq, Jordan, Israel, and Russia. In Iraq, minor damage occurred in some houses and buildings in Erbil, and the city\\'s citadel was severely damaged. In Egypt, tremors were strongly felt in the capital Cairo, and is considered the strongest earthquake felt since 1975. A 20 m (66 ft) crack appeared in the Corniche in Alexandria.\\n\\n\\n=== Aftershocks ===\\nOn 20 February, a Mww\\u202f6.3 aftershock struck near Antakya, causing additional buildings to collapse in Samandağ and further damage in Antakya. Six people died in Antakya, Defne and Samandağ. At least 562 were injured including 18 in serious condition who received immediate medical attention before being taken to Adana and Dörtyol. AFAD warned residents to stay away from the coast as there was potential for a tsunami of up to 50 cm (20 in). The mayor of Hatay said several people were trapped under debris. A bridge was damaged and an empty three-story building in İskenderun collapsed. In Syria, five people died during stampedes and panic across several governates and at least 500 people were injured. The White Helmets said people in Aleppo and Idlib were injured by collapsed buildings. Some residents in Jinderis were injured after leaping off buildings. In northwestern Syria, damaged and abandoned buildings collapsed without casualties. Shaking was felt in Lebanon, Egypt and Jordan.\\nA Mww\\u202f5.2 aftershock occurred on 27 February, near Yeşilyurt. It collapsed about 30 buildings in the town. Two people died and 140 others were injured; 12 in serious condition. One fatality and four injuries were attributed to a factory collapse in Kahramanmaraş Province.\\nOn 25 July, a damaging Mww\\u202f 5.5 aftershock struck Kozan, Adana Province. The shock left 63 people injured in Adana and Osmaniye provinces. A house in Sumbas was also damaged by rockfalls. Another aftershock struck Malatya Province on 10 August, measuring Mww\\u202f 5.3. Twenty-three people were injured; 22 in Malatya and one in Adıyaman. One building collapsed and two were damaged in Malatya.\\nA Mww\\u202f 6.0 earthquake struck Kale District, Malatya Province on 16 October 2024, causing 254 injuries across seven provinces, with Elazığ Province alone recording 116 injuries.\\n\\n\\n== Search and rescue ==\\n\\nTurkey was placed on a \"level four\" alert to request international aid. More than 53,000 Turkish search and rescue personnel were dispatched to the affected provinces. Seventy countries also assisted in these operations. In the first two days, more than 8,000 people were rescued and 380,000 people were relocated to shelters or hotels. An \"air aid corridor\" was established by the Turkish Armed Forces to mobilize search and rescue teams. Poor weather conditions and damaged roads hampered rescue and relief missions. By 19 February, most rescue efforts had concluded except in Hatay and Kahramanmaraş provinces.\\nSyria made an appeal to UN member states, the International Committee of the Red Cross, and other humanitarian organizations for international aid. President Bashar al-Assad ordered all teams of the civil defense, firefighting, health and public construction groups to be mobilized in the affected governates. He also added that medical services, food and shelter were urgently needed. The Ministry of Internal Trade and Consumer Protection was ordered by President al-Assad to supply food and organize teams to distribute them. Technical teams were also on site to evaluate building conditions and evacuate residents in at-risk structures. The Ministry of Water Resources was tasked with rapidly assessing damage to dams, reservoirs and water stations, and ensuring people have access to water. Some hotels including in Latakia and Damascus offered to accommodate to survivors free of charge and ensure basic necessities. Refugees and expatriates also opened their homes as shelters for people. Sports facilities, events venues, university dormitories and halls were also opened to take in people. The Syria Trust for Development announced the establishment of shelters across many governorates. Volunteer groups inspected buildings for damage and distributed food items, blankets and first aid essentials. Many hospitals were overwhelmed by the large number of casualties and prior to the earthquakes, were already experiencing supply shortages.\\n\\n\\n== International humanitarian efforts ==\\n\\n\\n=== Countries ===\\nAt least 105 countries pledged support for victims of the earthquake, including humanitarian aid. More than eleven countries provided teams with search and rescue dogs to locate victims under the debris and monetary support was offered as well.  However, outreach to Syria was \"less enthusiastic\" than that to Turkey, mostly because of the international sanctions on the country and because of government limitations imposed on humanitarian organizations from operating outside areas of their control.\\n\\n\\n=== Arab League ===\\nArab League secretary-general Ahmed Aboul Gheit called for international assistance to help those affected by \"this humanitarian catastrophe\".\\n\\n\\n=== European Union (EU) ===\\n\\nPresident of the European Council Charles Michel and President of the European Commission Ursula von der Leyen announced that the European Union was ready to deliver earthquake assistance in Turkey and Syria. The EU\\'s European Civil Protection Mechanism, in which Turkey participates despite not being a member of the EU, was activated at the request of Turkey. The EU dispatched thirty-one rescue teams and five medical teams from 23 member states to Turkey, committed €3 million and €3.5 million to Turkey and Syria respectively, and announced a donor conference to raise money. The Copernicus Programme was also activated to provide emergency mapping services and other assistance.\\n\\n\\n=== North Atlantic Treaty Organization (NATO) ===\\nNATO secretary-general Jens Stoltenberg said that member countries were mobilizing support. The Strategic Airlift Capability was used to transport search and rescue equipment. NATO deployed \"fully equipped semi-permanent shelter facilities\" to house displaced persons in Turkey. Flags at NATO headquarters were also lowered to half-mast. A vessel carrying the first 600 of 1,000 containers for temporary housing left Taranto, Italy for Turkey to accommodate at least 4,000 people.\\n\\n\\n=== United Nations (UN) ===\\nSeveral United Nations agencies announced coordinated responses to the disaster, including UNDAC, OCHA, UNHCR, UNICEF and IOM. The World Health Organization\\'s Regional Director for Europe, Hans Kluge, said the organization\\'s regional offices were assisting international efforts to transport medicine and relief equipment. The UN released $25 million from its emergency fund for humanitarian assistance in Turkey and Syria. A second $25 million grant was released for relief efforts in Syria. UN sent humanitarian aid to Syria through Turkey via the Bab al-Hawa Border Crossing. Since then, 65 trucks have crossed, carrying health and nutrition items and other vital relief supplies for more than two million people. On 14 February, the UN appealed for €396 million to help survivors in Syria.\\n\\n\\n=== World Bank ===\\nThe World Bank said it would provide US$1.78 billion in aid for Turkey to support the relief and recovery process. \"We are providing immediate assistance and preparing a rapid assessment of the urgent and massive needs on the ground,\" said World Bank President David Malpass.\\n\\n\\n=== Handling of aid in Syria ===\\nInvestigative reports revealed that the Syrian government had deliberately obstructed aid to all of Syria\\'s opposition-held areas, including the Idlib region, which was the worst-struck area in the earthquake. Syrian government officials and state-run media blamed United States and European Union sanctions against the country for the lack of humanitarian aid and hampering rescue. On 10 February, Syrian president Bashar al-Assad accused Western countries of having \"no regard for the human condition.\" The United States Department of the Treasury said its sanctions had already made \"robust exemptions for humanitarian efforts\", and that after the earthquake it issued a blanket authorization for relief efforts. The United Nations has also been criticized for its policy of focusing aid shipments solely towards the regime, at the expense of Syrian lives in opposition-held territories.\\nIdlib Governorate, under the control of the Syrian Salvation Government (SSG), was one of the hardest-hit territories. The Assad regime\\'s policy of besieging northwestern Syria, blockading the supply of food, medicines and other humanitarian supplies, has further deteriorated the crisis in Idlib. Ahmed al-Sharaa, commander of the SSG-aligned Tahrir al-Sham rebel militia, criticized aid agencies of neglecting the situation in Idlib and called on the international community to be more proactive in reconstruction and relief efforts, adding that the \"United Nations needs to understand that it\\'s required to help in a crisis\". Upon traveling to the Bab al-Hawa Border Crossing bordering the rebel-held territories, UNOCHA Under-Secretary Martin Griffith stated on 12 February that \"We have so far failed the people in north-west Syria\". As of 13 February, Ankara and the Turkish-backed Free Syrian Army were accused of blocking aid convoys sent by the Autonomous Administration of North and East Syria from entering the north-west region.\\nThe United Nations (UN) criticized Russia\\'s attempts to block delivery of aid through checkpoints to rebel-held territories. Secretary-General António Guterres urged the Security Council to immediately permit aid flows into Northwestern Syria. The United States appealed for the immediate opening of all closed checkpoints to send in relief efforts to all parts of Syria; calling for an emergency Security Council meeting to increase humanitarian assistance through Bab al-Hawa and open up more border crossings for the entry of UN aid. Stéphane Dujarric, a United Nations spokesperson, said on 14 February, \"some aid is getting into the north-west, pointing to 58 trucks that arrived with aid through the Bab Al-Hawa crossing.\" However, the organization does not possess heavy equipment or search and rescue teams. He stressed that the \"international community as a whole needs to step up to get that aid where it is needed.\"\\nRaed al-Saleh, chief of the White Helmets, a volunteer civil defense organization, strongly rebuked the UN for its negligence and delay in responding to the rescue efforts:\\n\\n\"Let me be clear: The White Helmets received no support from the United Nations during the most critical moments of the rescue operations.. The UN\\'s failure to respond quickly to this catastrophe is shameful. When I asked the UN why help had failed to arrive in time, the answer I received was bureaucracy. In the face of one of the deadliest catastrophes to strike the world in years, it seems the UN\\'s hands were tied by red tape.\"\\n\\n\\n=== Health concerns ===\\n\\nDue to below-freezing temperatures in the affected areas in both Turkey and Syria, the mayor of Hatay, Lütfü Savaş, warned about the risk of hypothermia. In Adiyaman Province, some residents trapped under rubble died from hypothermia.\\nConcerns arose regarding the possible spread of infection in areas where sanitation facilities were damaged or unfunctional. Due to water shortage experienced in both countries, many survivors could not shower. International health organizations said the shortage of clean water would be a public health risk. The World Health Organization said water shortage \"increases the risk of waterborne diseases and outbreaks of communicable diseases.\"\\nOn 18 February, Turkey\\'s Health Minister Fahrettin Koca said there was an increase in intestinal and upper respiratory infection cases but \"numbers did not pose a serious threat to public health.\" At a stadium serving as shelter in Kahramanmaraş, a clinic managed by 15 to 30 medics attended up to 10,000 patients in the day. The clinic provided tetanus shots and sanitary items to residents. Many people at the stadium were unable to shower and the six toilets were unable to accommodate to the large number of people. In Antakya, residents said more portable toilets were needed.\\nHealth authorities in Turkey had to ensure earthquake survivors were free of disease. The World Health Organization collaborated with local authorities to monitor the rates of waterborne diseases, seasonal influenza and COVID-19 among the affected.\\n\\n\\n== Reactions ==\\n\\nPresident Recep Tayyip Erdoğan declared seven days of national mourning in Turkey. The same period of mourning was observed in Northern Cyprus, and one day was also declared in Albania, Bangladesh and Kosovo. On 13 February, all overseas diplomatic missions of North Macedonia lowered the Macedonian flags to half-mast.\\nCondolences to Turkey and Syria were expressed by most countries that provided aid, as well as Bolivia, the Democratic Republic of the Congo, the Dominican Republic, Ghana, Grenada, Malawi, Monaco, Morocco, North Korea, Nicaragua, Peru, the Sahrawi Arab Democratic Republic, South Africa and Tonga.\\nPresident of the European Council Charles Michel and President of the European Commission Ursula von der Leyen expressed their solidarity with the Turkish and Syrian people and wished a speedy recovery to the injured. The African Union Commission, ASEAN and Organization of Turkic States, the latter of which Turkey is a founding member, also extended condolences.\\n\\n\\n== See also ==\\n\\nAftermath of the 2023 Turkey–Syria earthquakes\\nHumanitarian response to the 2023 Turkey–Syria earthquakes\\nReactions to the 2023 Turkey–Syria earthquakes\\nList of costliest earthquakes\\nList of earthquakes in 2023\\nList of earthquakes in Turkey\\nLists of 21st-century earthquakes\\n\\n\\n== References ==\\n\\n\\n=== Notes ===\\n\\n\\n=== Citations ===\\n\\n\\n=== Sources ===\\nEarthquake Department, ed. (9 February 2023). 06 Şubat 2023 Pazarcik (Kahramanmaraş) Mw 7.7 Elbistan (Kahramanmaraş) Mw 7.6 Depremlerine İlişkin Ön Değerlendirme Raporu [Preliminary Evaluation Report on the 06 February 2023 Pazarcik (Kahramanmaraş) Mw 7.7 and Elbistan (Kahramanmaraş) Mw 7.6 Earthquakes] (PDF) (Report) (in Turkish). AFAD.\\nGovers, Rob (14 February 2023). \"The science behind an earthquake\". Utrecht: Utrecht University – via YouTube. ORCID 0000-0001-7148-8857\\nUN (16 February 2023). Türkiye: 2023 Earthquakes Situation Report No.1 (PDF) (Report). OHCA.\\nÇetin, Kemal Önder; Ilgaç, Makbule; Can, Gizem; Çakır, Elife, eds. (20 February 2023). Preliminary Reconnaissance Report on February 6, 2023, Pazarcık Mw=7.7 and Elbistan Mw=7.6, Kahramanmaraş-Türkiye Earthquakes (PDF) (Report). Middle East Technical University. Retrieved 1 March 2023.\\nUtkucu, Murat; Uzunca, Fatih; Durmuş, Hatice; Nalbant, Suleyman (22 February 2023). The 2023 Pazarcik (Mw=7.8) and Elbi̇stan (Mw=7.6), Kahramanmaraş earthquakes in the southeast Türki̇ye (PDF) (Report). Sakarya University. Retrieved 1 March 2023.\\nTaftsoglou, Maria; Valkaniotis, Sotiris; Karantanellis, Efstratios; Goula, Evmorfia; Papathanassiou, George (23 February 2023). Preliminary mapping of liquefaction phenomena triggered by the February 6 2023 M7.7 earthquake, Türkiye / Syria, based on remote sensing data (Report). doi:10.5281/zenodo.7668401.\\nÇen, K. Önder; Bray, Jonathan D.; Frost, J. David; Hortacsu, Ayse; Miranda, Eduardo; Moss, Robb Eric S.; Stewart, Jonathan P. (6 May 2023). February 6, 2023 Türkiye Earthquakes: Report on Geoscience and Engineering Impacts (PDF) (Report) (GEER Associaon Report 082 ed.). Earthquake Engineering Research Institute. doi:10.18118/G6PM34.\\n\\n\\n== External links ==\\n\\nReliefWeb\\'s  main page  for this event.\\nThe International Seismological Centre has a bibliography and/or authoritative data for this event. – Mw\\u202f 7.8 at 01:17 UTC\\nThe International Seismological Centre has a bibliography and/or authoritative data for this event. – Mw\\u202f 7.7 at 10:24 UTC\\n\"Kahramanmaraş Supersite science page\". Group on Earth Observations.'}]}}"
      ]
     },
     "execution_count": 4,
     "metadata": {},
     "output_type": "execute_result"
    }
   ],
   "source": [
    "response_dict"
   ]
  },
  {
   "cell_type": "markdown",
   "id": "6389de6f",
   "metadata": {},
   "source": [
    "### TODO: Parse `response_dict` to get a list of text data samples\n",
    "\n",
    "Look at the nested data structure of `response_dict` and find the key-value pair with the key of `\"extract\"`. The associated value will be a string containing a long block of text. Split this text into a list of strings using the `\"\\n\"` separator and assign to the variable `text_data`.\n",
    "\n",
    "If you're getting stuck, you can click to reveal the solution then copy and paste this into the cell below.\n",
    "\n",
    "---\n",
    "\n",
    "<details>\n",
    "    <summary style=\"cursor: pointer\"><strong>Solution (click to show/hide)</strong></summary>\n",
    "\n",
    "```python\n",
    "text_data = response_dict[\"query\"][\"pages\"][0][\"extract\"].split(\"\\n\")\n",
    "```\n",
    "\n",
    "</details>"
   ]
  },
  {
   "cell_type": "code",
   "execution_count": 5,
   "id": "7f3af0a3",
   "metadata": {},
   "outputs": [],
   "source": [
    "text_data = response_dict[\"query\"][\"pages\"][0][\"extract\"].split(\"\\n\")"
   ]
  },
  {
   "cell_type": "markdown",
   "id": "4188cc41",
   "metadata": {},
   "source": [
    "### Adding the Text Data to a DataFrame\n",
    "\n",
    "Run the cell below as-is."
   ]
  },
  {
   "cell_type": "code",
   "execution_count": 6,
   "id": "0122c493",
   "metadata": {},
   "outputs": [
    {
     "data": {
      "text/html": [
       "<div>\n",
       "<style scoped>\n",
       "    .dataframe tbody tr th:only-of-type {\n",
       "        vertical-align: middle;\n",
       "    }\n",
       "\n",
       "    .dataframe tbody tr th {\n",
       "        vertical-align: top;\n",
       "    }\n",
       "\n",
       "    .dataframe thead th {\n",
       "        text-align: right;\n",
       "    }\n",
       "</style>\n",
       "<table border=\"1\" class=\"dataframe\">\n",
       "  <thead>\n",
       "    <tr style=\"text-align: right;\">\n",
       "      <th></th>\n",
       "      <th>text</th>\n",
       "    </tr>\n",
       "  </thead>\n",
       "  <tbody>\n",
       "    <tr>\n",
       "      <th>0</th>\n",
       "      <td>On 6 February 2023, at 04:17 TRT (01:17 UTC), ...</td>\n",
       "    </tr>\n",
       "    <tr>\n",
       "      <th>1</th>\n",
       "      <td>The Mw 7.8 earthquake is the largest in Turkey...</td>\n",
       "    </tr>\n",
       "    <tr>\n",
       "      <th>2</th>\n",
       "      <td>There was widespread damage in an area of abou...</td>\n",
       "    </tr>\n",
       "    <tr>\n",
       "      <th>3</th>\n",
       "      <td>The confirmed death toll in Turkey was 53,537;...</td>\n",
       "    </tr>\n",
       "    <tr>\n",
       "      <th>4</th>\n",
       "      <td>Damaged roads, winter storms, and disruption t...</td>\n",
       "    </tr>\n",
       "  </tbody>\n",
       "</table>\n",
       "</div>"
      ],
      "text/plain": [
       "                                                text\n",
       "0  On 6 February 2023, at 04:17 TRT (01:17 UTC), ...\n",
       "1  The Mw 7.8 earthquake is the largest in Turkey...\n",
       "2  There was widespread damage in an area of abou...\n",
       "3  The confirmed death toll in Turkey was 53,537;...\n",
       "4  Damaged roads, winter storms, and disruption t..."
      ]
     },
     "execution_count": 6,
     "metadata": {},
     "output_type": "execute_result"
    }
   ],
   "source": [
    "import pandas as pd\n",
    "\n",
    "# Load page text into a dataframe\n",
    "df = pd.DataFrame()\n",
    "df[\"text\"] = text_data\n",
    "\n",
    "# Clean up dataframe to remove empty lines and headings\n",
    "df = df[(\n",
    "    (df[\"text\"].str.len() > 0) & (~df[\"text\"].str.startswith(\"==\"))\n",
    ")].reset_index(drop=True)\n",
    "df.head()"
   ]
  },
  {
   "cell_type": "markdown",
   "id": "5e5959a8",
   "metadata": {},
   "source": [
    "## Creating the Embeddings Index\n",
    "\n",
    "Here is the text from the first row of our dataset. Run the cell below as-is."
   ]
  },
  {
   "cell_type": "code",
   "execution_count": 7,
   "id": "665694c1",
   "metadata": {},
   "outputs": [
    {
     "data": {
      "text/plain": [
       "'On 6 February 2023, at 04:17 TRT (01:17 UTC), a Mw 7.8 earthquake struck southern and central Turkey and northern and western Syria. The epicenter was 37 km (23 mi) west–northwest of Gaziantep. The earthquake had a maximum Mercalli intensity of XII (Extreme) around the epicenter and in Antakya. It was followed by a Mw\\u202f7.7 earthquake at 13:24. This earthquake was centered 95 km (59 mi) north-northeast from the first. There was widespread damage and tens of thousands of fatalities.'"
      ]
     },
     "execution_count": 7,
     "metadata": {},
     "output_type": "execute_result"
    }
   ],
   "source": [
    "df[\"text\"][0]"
   ]
  },
  {
   "cell_type": "markdown",
   "id": "bbe91fcf",
   "metadata": {},
   "source": [
    "This code creates embeddings for that text sample. Run the cell below as-is."
   ]
  },
  {
   "cell_type": "code",
   "execution_count": 8,
   "id": "5bf5757b",
   "metadata": {
    "scrolled": true
   },
   "outputs": [
    {
     "name": "stdout",
     "output_type": "stream",
     "text": [
      "[-0.007916178554296494, -0.014893945306539536, -0.013553355820477009, -0.030699491500854492, 0.0021617000456899405, 0.020926596596837044, -0.03895752131938934, -0.016623305156826973, 0.0042764791287481785, -0.02986832521855831, 0.02281682752072811, 0.05217573046684265, -0.010771634057164192, -0.018500130623579025, 0.012011678889393806, -0.0002576444821897894, 0.015349745750427246, -0.015376557596027851, 0.005074129905551672, -0.008700423873960972]\n"
     ]
    }
   ],
   "source": [
    "EMBEDDING_MODEL_NAME = \"text-embedding-ada-002\"\n",
    "response = openai.Embedding.create(\n",
    "    input=[df[\"text\"][0]],\n",
    "    engine=EMBEDDING_MODEL_NAME\n",
    ")\n",
    "\n",
    "# Extract and print the first 20 numbers in the embedding\n",
    "response_list = response[\"data\"]\n",
    "first_item = response_list[0]\n",
    "first_item_embedding = first_item[\"embedding\"]\n",
    "print(first_item_embedding[:20])"
   ]
  },
  {
   "cell_type": "markdown",
   "id": "12ee242f",
   "metadata": {},
   "source": [
    "### Creating a list of embeddings\n",
    "\n",
    "This code sends all of the data from `df[\"text\"].tolist()` to the `openai.Embedding.create` function, then extracts the resulting embeddings and creates a list of embeddings called `embeddings`.\n",
    "\n",
    "Run the cell below as-is."
   ]
  },
  {
   "cell_type": "code",
   "execution_count": 9,
   "id": "643d85e6",
   "metadata": {},
   "outputs": [],
   "source": [
    "# Send text data to the model\n",
    "response = openai.Embedding.create(\n",
    "    input=df[\"text\"].tolist(),\n",
    "    engine=EMBEDDING_MODEL_NAME\n",
    ")\n",
    "\n",
    "# Extract embeddings\n",
    "embeddings = [data[\"embedding\"] for data in response[\"data\"]]"
   ]
  },
  {
   "cell_type": "markdown",
   "id": "473f5235",
   "metadata": {},
   "source": [
    "### Adding Embeddings to DataFrame and Saving as CSV\n",
    "\n",
    "Run the cell below as-is."
   ]
  },
  {
   "cell_type": "code",
   "execution_count": 10,
   "id": "8a919041",
   "metadata": {},
   "outputs": [],
   "source": [
    "# Add embeddings list to dataframe\n",
    "df[\"embeddings\"] = embeddings\n",
    "df.to_csv(\"embeddings.csv\")"
   ]
  },
  {
   "cell_type": "code",
   "execution_count": 11,
   "id": "2b89c785",
   "metadata": {},
   "outputs": [
    {
     "data": {
      "text/html": [
       "<div>\n",
       "<style scoped>\n",
       "    .dataframe tbody tr th:only-of-type {\n",
       "        vertical-align: middle;\n",
       "    }\n",
       "\n",
       "    .dataframe tbody tr th {\n",
       "        vertical-align: top;\n",
       "    }\n",
       "\n",
       "    .dataframe thead th {\n",
       "        text-align: right;\n",
       "    }\n",
       "</style>\n",
       "<table border=\"1\" class=\"dataframe\">\n",
       "  <thead>\n",
       "    <tr style=\"text-align: right;\">\n",
       "      <th></th>\n",
       "      <th>text</th>\n",
       "      <th>embeddings</th>\n",
       "    </tr>\n",
       "  </thead>\n",
       "  <tbody>\n",
       "    <tr>\n",
       "      <th>0</th>\n",
       "      <td>On 6 February 2023, at 04:17 TRT (01:17 UTC), ...</td>\n",
       "      <td>[-0.007916178554296494, -0.014893945306539536,...</td>\n",
       "    </tr>\n",
       "    <tr>\n",
       "      <th>1</th>\n",
       "      <td>The Mw 7.8 earthquake is the largest in Turkey...</td>\n",
       "      <td>[0.0002615457051433623, -0.022248437628149986,...</td>\n",
       "    </tr>\n",
       "    <tr>\n",
       "      <th>2</th>\n",
       "      <td>There was widespread damage in an area of abou...</td>\n",
       "      <td>[-0.00022320200514514, -0.01703203096985817, 0...</td>\n",
       "    </tr>\n",
       "    <tr>\n",
       "      <th>3</th>\n",
       "      <td>The confirmed death toll in Turkey was 53,537;...</td>\n",
       "      <td>[0.0002244623174192384, -0.02535487338900566, ...</td>\n",
       "    </tr>\n",
       "    <tr>\n",
       "      <th>4</th>\n",
       "      <td>Damaged roads, winter storms, and disruption t...</td>\n",
       "      <td>[-0.018199238926172256, -0.014467408880591393,...</td>\n",
       "    </tr>\n",
       "  </tbody>\n",
       "</table>\n",
       "</div>"
      ],
      "text/plain": [
       "                                                text  \\\n",
       "0  On 6 February 2023, at 04:17 TRT (01:17 UTC), ...   \n",
       "1  The Mw 7.8 earthquake is the largest in Turkey...   \n",
       "2  There was widespread damage in an area of abou...   \n",
       "3  The confirmed death toll in Turkey was 53,537;...   \n",
       "4  Damaged roads, winter storms, and disruption t...   \n",
       "\n",
       "                                          embeddings  \n",
       "0  [-0.007916178554296494, -0.014893945306539536,...  \n",
       "1  [0.0002615457051433623, -0.022248437628149986,...  \n",
       "2  [-0.00022320200514514, -0.01703203096985817, 0...  \n",
       "3  [0.0002244623174192384, -0.02535487338900566, ...  \n",
       "4  [-0.018199238926172256, -0.014467408880591393,...  "
      ]
     },
     "execution_count": 11,
     "metadata": {},
     "output_type": "execute_result"
    }
   ],
   "source": [
    "df.head(5)"
   ]
  },
  {
   "cell_type": "markdown",
   "id": "8333c4ba",
   "metadata": {},
   "source": [
    "## Conclusion\n",
    "\n",
    "You have now created and saved an embeddings index!"
   ]
  }
 ],
 "metadata": {
  "kernelspec": {
   "display_name": "Python 3 (ipykernel)",
   "language": "python",
   "name": "python3"
  },
  "language_info": {
   "codemirror_mode": {
    "name": "ipython",
    "version": 3
   },
   "file_extension": ".py",
   "mimetype": "text/x-python",
   "name": "python",
   "nbconvert_exporter": "python",
   "pygments_lexer": "ipython3",
   "version": "3.9.18"
  }
 },
 "nbformat": 4,
 "nbformat_minor": 5
}
