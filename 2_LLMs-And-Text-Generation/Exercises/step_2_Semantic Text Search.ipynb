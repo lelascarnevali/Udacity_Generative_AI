{
 "cells": [
  {
   "cell_type": "markdown",
   "id": "32a86128",
   "metadata": {},
   "source": [
    "# Step 2: Finding Relevant Data"
   ]
  },
  {
   "cell_type": "markdown",
   "id": "6e411bad",
   "metadata": {},
   "source": [
    "Add your API key to the cell below then run it."
   ]
  },
  {
   "cell_type": "code",
   "execution_count": 1,
   "id": "bda6008b",
   "metadata": {},
   "outputs": [
    {
     "name": "stdout",
     "output_type": "stream",
     "text": [
      "Digite sua API Key: ········\n"
     ]
    }
   ],
   "source": [
    "import openai\n",
    "import getpass\n",
    "\n",
    "\n",
    "openai.api_base = \"https://openai.vocareum.com/v1\"\n",
    "openai.api_key = getpass.getpass(\"Digite sua API Key: \").strip()"
   ]
  },
  {
   "cell_type": "markdown",
   "id": "c94891e7",
   "metadata": {},
   "source": [
    "The code below loads in the embeddings you previously created. Run it as-is."
   ]
  },
  {
   "cell_type": "code",
   "execution_count": 2,
   "id": "8079085d",
   "metadata": {},
   "outputs": [
    {
     "data": {
      "text/html": [
       "<div>\n",
       "<style scoped>\n",
       "    .dataframe tbody tr th:only-of-type {\n",
       "        vertical-align: middle;\n",
       "    }\n",
       "\n",
       "    .dataframe tbody tr th {\n",
       "        vertical-align: top;\n",
       "    }\n",
       "\n",
       "    .dataframe thead th {\n",
       "        text-align: right;\n",
       "    }\n",
       "</style>\n",
       "<table border=\"1\" class=\"dataframe\">\n",
       "  <thead>\n",
       "    <tr style=\"text-align: right;\">\n",
       "      <th></th>\n",
       "      <th>text</th>\n",
       "      <th>embeddings</th>\n",
       "    </tr>\n",
       "  </thead>\n",
       "  <tbody>\n",
       "    <tr>\n",
       "      <th>0</th>\n",
       "      <td>On 6 February 2023, at 04:17 TRT (01:17 UTC), ...</td>\n",
       "      <td>[-0.007916178554296494, -0.014893945306539536,...</td>\n",
       "    </tr>\n",
       "    <tr>\n",
       "      <th>1</th>\n",
       "      <td>The Mw 7.8 earthquake is the largest in Turkey...</td>\n",
       "      <td>[0.0002615457051433623, -0.022248437628149986,...</td>\n",
       "    </tr>\n",
       "    <tr>\n",
       "      <th>2</th>\n",
       "      <td>There was widespread damage in an area of abou...</td>\n",
       "      <td>[-0.00022320200514514, -0.01703203096985817, 0...</td>\n",
       "    </tr>\n",
       "    <tr>\n",
       "      <th>3</th>\n",
       "      <td>The confirmed death toll in Turkey was 53,537;...</td>\n",
       "      <td>[0.0002244623174192384, -0.02535487338900566, ...</td>\n",
       "    </tr>\n",
       "    <tr>\n",
       "      <th>4</th>\n",
       "      <td>Damaged roads, winter storms, and disruption t...</td>\n",
       "      <td>[-0.018199238926172256, -0.014467408880591393,...</td>\n",
       "    </tr>\n",
       "    <tr>\n",
       "      <th>...</th>\n",
       "      <td>...</td>\n",
       "      <td>...</td>\n",
       "    </tr>\n",
       "    <tr>\n",
       "      <th>109</th>\n",
       "      <td>Çen, K. Önder; Bray, Jonathan D.; Frost, J. Da...</td>\n",
       "      <td>[-0.019511545076966286, -0.02989801950752735, ...</td>\n",
       "    </tr>\n",
       "    <tr>\n",
       "      <th>110</th>\n",
       "      <td>ReliefWeb's  main page  for this event.</td>\n",
       "      <td>[-0.02547556720674038, -0.007119387853890657, ...</td>\n",
       "    </tr>\n",
       "    <tr>\n",
       "      <th>111</th>\n",
       "      <td>The International Seismological Centre has a b...</td>\n",
       "      <td>[-0.004611919168382883, -0.00965331494808197, ...</td>\n",
       "    </tr>\n",
       "    <tr>\n",
       "      <th>112</th>\n",
       "      <td>The International Seismological Centre has a b...</td>\n",
       "      <td>[-0.004804010968655348, -0.016912750899791718,...</td>\n",
       "    </tr>\n",
       "    <tr>\n",
       "      <th>113</th>\n",
       "      <td>\"Kahramanmaraş Supersite science page\". Group ...</td>\n",
       "      <td>[0.0036371636670082808, -0.008077381178736687,...</td>\n",
       "    </tr>\n",
       "  </tbody>\n",
       "</table>\n",
       "<p>114 rows × 2 columns</p>\n",
       "</div>"
      ],
      "text/plain": [
       "                                                  text  \\\n",
       "0    On 6 February 2023, at 04:17 TRT (01:17 UTC), ...   \n",
       "1    The Mw 7.8 earthquake is the largest in Turkey...   \n",
       "2    There was widespread damage in an area of abou...   \n",
       "3    The confirmed death toll in Turkey was 53,537;...   \n",
       "4    Damaged roads, winter storms, and disruption t...   \n",
       "..                                                 ...   \n",
       "109  Çen, K. Önder; Bray, Jonathan D.; Frost, J. Da...   \n",
       "110            ReliefWeb's  main page  for this event.   \n",
       "111  The International Seismological Centre has a b...   \n",
       "112  The International Seismological Centre has a b...   \n",
       "113  \"Kahramanmaraş Supersite science page\". Group ...   \n",
       "\n",
       "                                            embeddings  \n",
       "0    [-0.007916178554296494, -0.014893945306539536,...  \n",
       "1    [0.0002615457051433623, -0.022248437628149986,...  \n",
       "2    [-0.00022320200514514, -0.01703203096985817, 0...  \n",
       "3    [0.0002244623174192384, -0.02535487338900566, ...  \n",
       "4    [-0.018199238926172256, -0.014467408880591393,...  \n",
       "..                                                 ...  \n",
       "109  [-0.019511545076966286, -0.02989801950752735, ...  \n",
       "110  [-0.02547556720674038, -0.007119387853890657, ...  \n",
       "111  [-0.004611919168382883, -0.00965331494808197, ...  \n",
       "112  [-0.004804010968655348, -0.016912750899791718,...  \n",
       "113  [0.0036371636670082808, -0.008077381178736687,...  \n",
       "\n",
       "[114 rows x 2 columns]"
      ]
     },
     "execution_count": 2,
     "metadata": {},
     "output_type": "execute_result"
    }
   ],
   "source": [
    "import numpy as np\n",
    "import pandas as pd\n",
    "\n",
    "df = pd.read_csv(\"embeddings.csv\", index_col=0)\n",
    "df[\"embeddings\"] = df[\"embeddings\"].apply(eval).apply(np.array)\n",
    "df"
   ]
  },
  {
   "cell_type": "markdown",
   "id": "f9f55c03",
   "metadata": {},
   "source": [
    "## TODO 1: Create Embeddings for the User's Question\n",
    "\n",
    "In the previous exercise, you were given the code to create embeddings for everything in the dataset. Now your task is to create embeddings for just one string: the user's question. Assign the result to the variable `question_embeddings`. This variable should contain a list of 1,536 floating point numbers, and the provided code will print the first 100 once `question_embeddings` has been created correctly.\n",
    "\n",
    "If you're getting stuck, you can click to reveal the solution then copy and paste this into the cell below.\n",
    "\n",
    "---\n",
    "\n",
    "<details>\n",
    "    <summary style=\"cursor: pointer\"><strong>Solution (click to show/hide)</strong></summary>\n",
    "\n",
    "```python\n",
    "EMBEDDING_MODEL_NAME = \"text-embedding-ada-002\"\n",
    "USER_QUESTION = \"\"\"What were the estimated damages of the 2023 \\\n",
    "Turkey-Syria earthquake?\"\"\"\n",
    "\n",
    "# Generate the embedding response\n",
    "response = openai.Embedding.create(\n",
    "    input=USER_QUESTION,\n",
    "    engine=EMBEDDING_MODEL_NAME\n",
    ")\n",
    "\n",
    "# Extract the embeddings from the response\n",
    "question_embeddings = response[\"data\"][0][\"embedding\"]\n",
    "\n",
    "print(question_embeddings[:100])\n",
    "```\n",
    "\n",
    "</details>"
   ]
  },
  {
   "cell_type": "code",
   "execution_count": 3,
   "id": "fd5e0998",
   "metadata": {},
   "outputs": [
    {
     "name": "stdout",
     "output_type": "stream",
     "text": [
      "[0.0055134412832558155, -0.024900270625948906, 0.0023327376693487167, -0.012057743035256863, -0.02148180454969406, 0.0025389099027961493, -0.03381222486495972, -0.013101905584335327, 0.002271218691021204, -0.015004009008407593, 0.0162410419434309, 0.044320352375507355, -0.010262050665915012, -0.013308077119290829, 0.015070516616106033, -0.005400379188358784, 0.012456785887479782, -0.013135158456861973, 0.008339994587004185, -0.0057362401857972145, -0.0074754017405211926, 0.011472480371594429, 0.012396929785609245, -0.009018367156386375, 0.015123722143471241, 0.032162848860025406, 0.008027411065995693, -0.0023377256002277136, -0.0007943445816636086, -0.012204058468341827, 0.005523417145013809, -0.006550952792167664, -0.023450415581464767, 0.015256736427545547, -0.03240227326750755, -0.007575162220746279, 0.0068834880366921425, -0.0048450445756316185, 0.023344002664089203, -0.007927650585770607, 0.010075830854475498, 0.028624670580029488, 0.01296889130026102, -0.007708176504820585, -0.01754458248615265, -0.00427973410114646, 0.01725194975733757, 0.0030925816390663385, -0.004825092386454344, 0.021295584738254547, 0.013068651780486107, 0.026762470602989197, -0.03782925754785538, -0.020377784967422485, -0.015589271672070026, -0.016440562903881073, -0.0014066258445382118, -0.019579699262976646, -0.0001513037277618423, -0.011572240851819515, 0.009291046299040318, -0.006836933083832264, -0.02875768393278122, 0.00137919164262712, -0.013939894735813141, -0.015270037576556206, 0.007575162220746279, -0.02098965086042881, -0.019606303423643112, 0.010867265053093433, 0.05009317398071289, 0.04764571040868759, 0.0009219550993293524, -0.05708972364664078, 0.0352487787604332, -0.004791839048266411, 0.017917022109031677, -0.006517698988318443, -0.0072958325035870075, 0.0024241849314421415, 0.03644590824842453, -0.020244771614670753, -0.003784255823120475, 0.0014623255701735616, 0.03155098482966423, -0.0008463032427243888, 0.005207508336752653, 0.009377505630254745, -0.029236534610390663, 0.017877116799354553, 0.012835877016186714, 0.03040706180036068, -0.0034384187310934067, 0.009856357239186764, 0.0007860311889089644, -0.007674923166632652, -0.02565845102071762, 0.01703912764787674, -0.015615874901413918, -0.045889921486377716]\n"
     ]
    }
   ],
   "source": [
    "EMBEDDING_MODEL_NAME = \"text-embedding-ada-002\"\n",
    "USER_QUESTION = \"\"\"What were the estimated damages of the 2023 \\\n",
    "Turkey-Syria earthquake?\"\"\"\n",
    "\n",
    "# Generate the embedding response\n",
    "response = openai.Embedding.create(\n",
    "    input=USER_QUESTION,\n",
    "    engine=EMBEDDING_MODEL_NAME\n",
    ")\n",
    "\n",
    "# Extract the embeddings from the response\n",
    "question_embeddings = response[\"data\"][0][\"embedding\"]\n",
    "\n",
    "print(question_embeddings[:100])"
   ]
  },
  {
   "cell_type": "markdown",
   "id": "ee9cc40d",
   "metadata": {},
   "source": [
    "## TODO 2: Find Cosine Distances"
   ]
  },
  {
   "cell_type": "markdown",
   "id": "5a68de2b",
   "metadata": {},
   "source": [
    "Create a new list called `distances`, which represents the cosine distances between `question_embeddings` and each value in the `'embeddings'` column of `df`.\n",
    "\n",
    "If you're getting stuck, you can click to reveal the solution then copy and paste this into the cell below.\n",
    "\n",
    "---\n",
    "\n",
    "<details>\n",
    "    <summary style=\"cursor: pointer\"><strong>Solution (click to show/hide)</strong></summary>\n",
    "\n",
    "```python\n",
    "from openai.embeddings_utils import distances_from_embeddings\n",
    "\n",
    "# Create a list containing the distances from question_embeddings\n",
    "distances = distances_from_embeddings(\n",
    "    question_embeddings,\n",
    "    df[\"embeddings\"],\n",
    "    distance_metric=\"cosine\"\n",
    ")\n",
    "\n",
    "print(distances[:100])\n",
    "```\n",
    "\n",
    "</details>"
   ]
  },
  {
   "cell_type": "code",
   "execution_count": 4,
   "id": "7fd30911",
   "metadata": {},
   "outputs": [
    {
     "name": "stdout",
     "output_type": "stream",
     "text": [
      "[0.11678971290193163, 0.13426155960203623, 0.12753979086804168, 0.092695145270001, 0.1699401787102618, 0.1855847702020884, 0.19293368610263262, 0.18508184111718984, 0.1618291879129683, 0.15102313521139765, 0.1779269382386266, 0.14740436326035344, 0.15120108905068252, 0.15187190048479393, 0.1472815255275015, 0.16669583531712007, 0.1594284817929691, 0.16564275458828703, 0.15658377292249392, 0.18243408161581431, 0.15669349751493922, 0.13989238714133134, 0.16308800831404346, 0.18108915843279216, 0.15401192512523043, 0.17850953487518584, 0.1795252773021776, 0.14836323893774261, 0.1585094951217988, 0.16857954111217321, 0.16145485371725954, 0.18162148941619916, 0.17155705971719448, 0.18771910661596047, 0.19233996931899466, 0.191188276180151, 0.16726931885360397, 0.1506654397731697, 0.13084296557240938, 0.10100772190302987, 0.1640440403703599, 0.1810213382333613, 0.17146096139517786, 0.15945025863689188, 0.16339679427201892, 0.21426320648899388, 0.23889551113086027, 0.17557757619619996, 0.16821979722065816, 0.17411595373358502, 0.14963993028676137, 0.17577467031878413, 0.14098593902767909, 0.15543599484441428, 0.170815458827701, 0.16731306030343107, 0.1391333902012899, 0.14526666488559503, 0.19542457662754364, 0.17839727569409114, 0.14878878121759487, 0.14630762924321739, 0.18949788892031227, 0.19385002917500094, 0.1743932169826209, 0.16804635859312023, 0.19217674684721664, 0.1739154796517891, 0.15467075073248038, 0.17457371844559222, 0.18646077304420094, 0.16558792581481263, 0.13997242546017774, 0.15247998336519608, 0.15011340335431278, 0.14698179072461748, 0.15932550391621203, 0.19934089963827417, 0.15461715511985274, 0.2220628255947923, 0.15697533540999853, 0.21748636668927634, 0.1826315402952149, 0.16974008461711776, 0.17461516693621448, 0.2272657157218969, 0.22774252231727654, 0.23511130758052345, 0.25437590838608837, 0.18615682495960306, 0.26245508227676406, 0.2002467186578717, 0.1706682342659408, 0.22256460404612022, 0.2009126862892695, 0.20251521238359516, 0.0754610386681509, 0.08967673754798555, 0.07899373845534918, 0.17862120129350778]\n"
     ]
    }
   ],
   "source": [
    "from openai.embeddings_utils import distances_from_embeddings\n",
    "\n",
    "# Create a list containing the distances from question_embeddings\n",
    "distances = distances_from_embeddings(\n",
    "    question_embeddings,\n",
    "    df[\"embeddings\"],\n",
    "    distance_metric=\"cosine\"\n",
    ")\n",
    "\n",
    "print(distances[:100])"
   ]
  },
  {
   "cell_type": "markdown",
   "id": "f557de6a",
   "metadata": {},
   "source": [
    "## Sorting by Distance\n",
    "\n",
    "The code below uses the `distances` list to update `df` then sorts `df` to find the most related rows. Shorter distance means more similarity, so we'll use an ascending sorting order. Run the cell below as-is."
   ]
  },
  {
   "cell_type": "code",
   "execution_count": 5,
   "id": "338c33f1",
   "metadata": {},
   "outputs": [
    {
     "data": {
      "text/html": [
       "<div>\n",
       "<style scoped>\n",
       "    .dataframe tbody tr th:only-of-type {\n",
       "        vertical-align: middle;\n",
       "    }\n",
       "\n",
       "    .dataframe tbody tr th {\n",
       "        vertical-align: top;\n",
       "    }\n",
       "\n",
       "    .dataframe thead th {\n",
       "        text-align: right;\n",
       "    }\n",
       "</style>\n",
       "<table border=\"1\" class=\"dataframe\">\n",
       "  <thead>\n",
       "    <tr style=\"text-align: right;\">\n",
       "      <th></th>\n",
       "      <th>text</th>\n",
       "      <th>embeddings</th>\n",
       "      <th>distances</th>\n",
       "    </tr>\n",
       "  </thead>\n",
       "  <tbody>\n",
       "    <tr>\n",
       "      <th>96</th>\n",
       "      <td>Aftermath of the 2023 Turkey–Syria earthquakes</td>\n",
       "      <td>[-0.005933617707341909, -0.015571611933410168,...</td>\n",
       "      <td>0.075461</td>\n",
       "    </tr>\n",
       "    <tr>\n",
       "      <th>98</th>\n",
       "      <td>Reactions to the 2023 Turkey–Syria earthquakes</td>\n",
       "      <td>[-0.009687341749668121, -0.028230521827936172,...</td>\n",
       "      <td>0.078994</td>\n",
       "    </tr>\n",
       "    <tr>\n",
       "      <th>97</th>\n",
       "      <td>Humanitarian response to the 2023 Turkey–Syria...</td>\n",
       "      <td>[-0.010031175799667835, -0.02768046222627163, ...</td>\n",
       "      <td>0.089677</td>\n",
       "    </tr>\n",
       "    <tr>\n",
       "      <th>3</th>\n",
       "      <td>The confirmed death toll in Turkey was 53,537;...</td>\n",
       "      <td>[0.0002244623174192384, -0.02535487338900566, ...</td>\n",
       "      <td>0.092695</td>\n",
       "    </tr>\n",
       "    <tr>\n",
       "      <th>39</th>\n",
       "      <td>By 23 February 2023, the Ministry of Environme...</td>\n",
       "      <td>[0.005264854524284601, -0.015679670497775078, ...</td>\n",
       "      <td>0.101008</td>\n",
       "    </tr>\n",
       "  </tbody>\n",
       "</table>\n",
       "</div>"
      ],
      "text/plain": [
       "                                                 text  \\\n",
       "96     Aftermath of the 2023 Turkey–Syria earthquakes   \n",
       "98     Reactions to the 2023 Turkey–Syria earthquakes   \n",
       "97  Humanitarian response to the 2023 Turkey–Syria...   \n",
       "3   The confirmed death toll in Turkey was 53,537;...   \n",
       "39  By 23 February 2023, the Ministry of Environme...   \n",
       "\n",
       "                                           embeddings  distances  \n",
       "96  [-0.005933617707341909, -0.015571611933410168,...   0.075461  \n",
       "98  [-0.009687341749668121, -0.028230521827936172,...   0.078994  \n",
       "97  [-0.010031175799667835, -0.02768046222627163, ...   0.089677  \n",
       "3   [0.0002244623174192384, -0.02535487338900566, ...   0.092695  \n",
       "39  [0.005264854524284601, -0.015679670497775078, ...   0.101008  "
      ]
     },
     "execution_count": 5,
     "metadata": {},
     "output_type": "execute_result"
    }
   ],
   "source": [
    "df[\"distances\"] = distances\n",
    "df.sort_values(by=\"distances\", ascending=True, inplace=True)\n",
    "df.head(5)"
   ]
  },
  {
   "cell_type": "markdown",
   "id": "b08c82d1",
   "metadata": {},
   "source": [
    "Great, now we have the dataset sorted from most relevant to least relevant! Let's save this as a CSV so we can load it in the next step and compose a custom prompt.\n",
    "\n",
    "Run the cell below as-is."
   ]
  },
  {
   "cell_type": "code",
   "execution_count": 6,
   "id": "89beaf82",
   "metadata": {},
   "outputs": [],
   "source": [
    "df.to_csv(\"distances.csv\")"
   ]
  },
  {
   "cell_type": "code",
   "execution_count": null,
   "id": "15aaf8cd",
   "metadata": {},
   "outputs": [],
   "source": []
  }
 ],
 "metadata": {
  "kernelspec": {
   "display_name": "Python 3 (ipykernel)",
   "language": "python",
   "name": "python3"
  },
  "language_info": {
   "codemirror_mode": {
    "name": "ipython",
    "version": 3
   },
   "file_extension": ".py",
   "mimetype": "text/x-python",
   "name": "python",
   "nbconvert_exporter": "python",
   "pygments_lexer": "ipython3",
   "version": "3.9.18"
  }
 },
 "nbformat": 4,
 "nbformat_minor": 5
}
