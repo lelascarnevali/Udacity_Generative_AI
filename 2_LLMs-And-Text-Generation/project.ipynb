{
 "cells": [
  {
   "cell_type": "markdown",
   "id": "124e5672",
   "metadata": {},
   "source": [
    "# Custom Chatbot Project"
   ]
  },
  {
   "cell_type": "markdown",
   "id": "2a4a94b3",
   "metadata": {},
   "source": [
    "TODO: In this cell, write an explanation of which dataset you have chosen and why it is appropriate for this task"
   ]
  },
  {
   "cell_type": "markdown",
   "id": "870d4286",
   "metadata": {},
   "source": [
    "### Projeto de Chatbot Personalizado\n",
    "\n",
    "Escolhi utilizar o dataset `character_descriptions.csv`, que contém descrições de personagens fictícios criados por um modelo da OpenAI. Este conjunto de dados é apropriado para este projeto porque cada linha apresenta uma amostra textual rica e coerente, contendo o nome do personagem, uma descrição detalhada, o meio em que aparece e o ambiente em que a história se passa.\n",
    "\n",
    "Essas informações são altamente textuais e contextualizadas, o que torna o dataset ideal para treinar um chatbot personalizado capaz de responder a perguntas sobre esses personagens e até sugerir ideias de narrativa."
   ]
  },
  {
   "cell_type": "markdown",
   "id": "a63d4c5f",
   "metadata": {},
   "source": [
    "## Data Wrangling\n",
    "\n",
    "TODO: In the cells below, load your chosen dataset into a `pandas` dataframe with a column named `\"text\"`. This column should contain all of your text data, separated into at least 20 rows."
   ]
  },
  {
   "cell_type": "code",
   "execution_count": 4,
   "id": "c69b83a1",
   "metadata": {},
   "outputs": [
    {
     "data": {
      "text/html": [
       "<div>\n",
       "<style scoped>\n",
       "    .dataframe tbody tr th:only-of-type {\n",
       "        vertical-align: middle;\n",
       "    }\n",
       "\n",
       "    .dataframe tbody tr th {\n",
       "        vertical-align: top;\n",
       "    }\n",
       "\n",
       "    .dataframe thead th {\n",
       "        text-align: right;\n",
       "    }\n",
       "</style>\n",
       "<table border=\"1\" class=\"dataframe\">\n",
       "  <thead>\n",
       "    <tr style=\"text-align: right;\">\n",
       "      <th></th>\n",
       "      <th>Name</th>\n",
       "      <th>Description</th>\n",
       "      <th>Medium</th>\n",
       "      <th>Setting</th>\n",
       "    </tr>\n",
       "  </thead>\n",
       "  <tbody>\n",
       "    <tr>\n",
       "      <th>0</th>\n",
       "      <td>Emily</td>\n",
       "      <td>A young woman in her early 20s, Emily is an as...</td>\n",
       "      <td>Play</td>\n",
       "      <td>England</td>\n",
       "    </tr>\n",
       "    <tr>\n",
       "      <th>1</th>\n",
       "      <td>Jack</td>\n",
       "      <td>A middle-aged man in his 40s, Jack is a succes...</td>\n",
       "      <td>Play</td>\n",
       "      <td>England</td>\n",
       "    </tr>\n",
       "    <tr>\n",
       "      <th>2</th>\n",
       "      <td>Alice</td>\n",
       "      <td>A woman in her late 30s, Alice is a warm and n...</td>\n",
       "      <td>Play</td>\n",
       "      <td>England</td>\n",
       "    </tr>\n",
       "    <tr>\n",
       "      <th>3</th>\n",
       "      <td>Tom</td>\n",
       "      <td>A man in his 50s, Tom is a retired soldier and...</td>\n",
       "      <td>Play</td>\n",
       "      <td>England</td>\n",
       "    </tr>\n",
       "    <tr>\n",
       "      <th>4</th>\n",
       "      <td>Sarah</td>\n",
       "      <td>A woman in her mid-20s, Sarah is a free-spirit...</td>\n",
       "      <td>Play</td>\n",
       "      <td>England</td>\n",
       "    </tr>\n",
       "  </tbody>\n",
       "</table>\n",
       "</div>"
      ],
      "text/plain": [
       "    Name                                        Description Medium  Setting\n",
       "0  Emily  A young woman in her early 20s, Emily is an as...   Play  England\n",
       "1   Jack  A middle-aged man in his 40s, Jack is a succes...   Play  England\n",
       "2  Alice  A woman in her late 30s, Alice is a warm and n...   Play  England\n",
       "3    Tom  A man in his 50s, Tom is a retired soldier and...   Play  England\n",
       "4  Sarah  A woman in her mid-20s, Sarah is a free-spirit...   Play  England"
      ]
     },
     "execution_count": 4,
     "metadata": {},
     "output_type": "execute_result"
    }
   ],
   "source": [
    "import pandas as pd\n",
    "\n",
    "# Carregar o dataset de descrições de personagens\n",
    "df = pd.read_csv(\"data/character_descriptions.csv\")\n",
    "\n",
    "# Exibir as primeiras linhas para inspeção\n",
    "df.head()"
   ]
  },
  {
   "cell_type": "code",
   "execution_count": 15,
   "id": "acb3a9fd",
   "metadata": {},
   "outputs": [
    {
     "data": {
      "text/plain": [
       "0    Name: Emily. Description: A young woman in her...\n",
       "1    Name: Jack. Description: A middle-aged man in ...\n",
       "2    Name: Alice. Description: A woman in her late ...\n",
       "3    Name: Tom. Description: A man in his 50s, Tom ...\n",
       "4    Name: Sarah. Description: A woman in her mid-2...\n",
       "Name: text, dtype: object"
      ]
     },
     "execution_count": 15,
     "metadata": {},
     "output_type": "execute_result"
    }
   ],
   "source": [
    "df[\"text\"] = df.apply(\n",
    "    lambda row: f\"Name: {row['Name']}. Description: {row['Description']}. Medium: {row['Medium']}. Setting: {row['Setting']}.\",\n",
    "    axis=1\n",
    ")\n",
    "\n",
    "# Visualizar as primeiras linhas\n",
    "df[\"text\"].head()\n"
   ]
  },
  {
   "cell_type": "markdown",
   "id": "ae769871",
   "metadata": {},
   "source": [
    "## Custom Query Completion\n",
    "\n",
    "TODO: In the cells below, compose a custom query using your chosen dataset and retrieve results from an OpenAI `Completion` model. You may copy and paste any useful code from the course materials."
   ]
  },
  {
   "cell_type": "code",
   "execution_count": null,
   "id": "17cfd585",
   "metadata": {},
   "outputs": [],
   "source": [
    "!pip install openai==0.26.1"
   ]
  },
  {
   "cell_type": "code",
   "execution_count": 18,
   "id": "582f0656",
   "metadata": {},
   "outputs": [],
   "source": [
    "import openai\n",
    "import getpass\n",
    "\n",
    "# Configuração da API da OpenAI no ambiente do Vocareum\n",
    "openai.api_base = \"https://openai.vocareum.com/v1\"\n",
    "openai.api_key = getpass.getpass(\"Digite sua API Key: \").strip()"
   ]
  },
  {
   "cell_type": "code",
   "execution_count": 28,
   "id": "1ef7ae16",
   "metadata": {},
   "outputs": [],
   "source": [
    "# Gerar embeddings para os textos\n",
    "def get_embedding(text):\n",
    "    response = openai.Embedding.create(\n",
    "        model=\"text-embedding-ada-002\",\n",
    "        input=text\n",
    "    )\n",
    "    return response['data'][0]['embedding']"
   ]
  },
  {
   "cell_type": "code",
   "execution_count": 29,
   "id": "066b9436",
   "metadata": {},
   "outputs": [],
   "source": [
    "# Calcula os embeddings (demora um pouco)\n",
    "df[\"embedding\"] = df[\"text\"].apply(get_embedding)"
   ]
  },
  {
   "cell_type": "code",
   "execution_count": 30,
   "id": "81f53916",
   "metadata": {},
   "outputs": [],
   "source": [
    "df.to_csv(\"data/character_descriptions_embedding.csv\")"
   ]
  },
  {
   "cell_type": "code",
   "execution_count": 31,
   "id": "abc8a6c2",
   "metadata": {},
   "outputs": [],
   "source": [
    "from sklearn.metrics.pairwise import cosine_similarity\n",
    "\n",
    "\n",
    "# Função para responder perguntas com base nos textos mais similares\n",
    "def ask_semantic_bot(question, top_k=3):\n",
    "    # Gerar embedding da pergunta\n",
    "    question_embedding = get_embedding(question)\n",
    "\n",
    "    # Calcular similaridade entre a pergunta e os textos\n",
    "    similarities = cosine_similarity(\n",
    "        [question_embedding],\n",
    "        df[\"embedding\"].tolist()\n",
    "    )[0]\n",
    "\n",
    "    # Selecionar os top_k textos mais similares\n",
    "    top_indices = similarities.argsort()[-top_k:][::-1]\n",
    "    top_contexts = df.iloc[top_indices][\"text\"].tolist()\n",
    "\n",
    "    # Criar prompt com os textos mais relevantes\n",
    "    prompt = f\"\"\"\n",
    "You are an assistant that answers questions based on fictional character descriptions.\n",
    "\n",
    "Use the following information to answer the question:\n",
    "\n",
    "{chr(10).join(top_contexts)}\n",
    "\n",
    "Question: {question}\n",
    "Answer:\"\"\"\n",
    "\n",
    "    # Consulta ao modelo\n",
    "    response = openai.Completion.create(\n",
    "        model=\"gpt-3.5-turbo-instruct\",\n",
    "        prompt=prompt,\n",
    "        max_tokens=300,\n",
    "        temperature=0.7\n",
    "    )\n",
    "\n",
    "    return response[\"choices\"][0][\"text\"].strip()"
   ]
  },
  {
   "cell_type": "code",
   "execution_count": 32,
   "id": "74280b92",
   "metadata": {},
   "outputs": [],
   "source": [
    "question = \"Which character would be perfect for a horror series in a haunted hospital?\"\n",
    "answer = ask_semantic_bot(question)"
   ]
  },
  {
   "cell_type": "code",
   "execution_count": 33,
   "id": "d2b48ffb",
   "metadata": {},
   "outputs": [
    {
     "name": "stdout",
     "output_type": "stream",
     "text": [
      "Resposta do bot:\n",
      "Maya would be perfect for a horror series in a haunted hospital. Her job as a nurse and her compassionate, caring nature would make for an interesting dynamic in a horror setting. Plus, her fearlessness and willingness to stand up for what she believes in would make her a strong protagonist in the series.\n"
     ]
    }
   ],
   "source": [
    "print(\"Resposta do bot:\")\n",
    "print(answer)"
   ]
  },
  {
   "cell_type": "markdown",
   "id": "1783f146",
   "metadata": {},
   "source": [
    "## Custom Performance Demonstration\n",
    "\n",
    "TODO: In the cells below, demonstrate the performance of your custom query using at least 2 questions. For each question, show the answer from a basic `Completion` model query as well as the answer from your custom query."
   ]
  },
  {
   "cell_type": "code",
   "execution_count": 34,
   "id": "8a84ce6f",
   "metadata": {},
   "outputs": [],
   "source": [
    "# Função que usa apenas a pergunta (sem contexto)\n",
    "def ask_basic_model(question):\n",
    "    prompt = f\"Answer the following question: {question}\"\n",
    "    response = openai.Completion.create(\n",
    "        model=\"gpt-3.5-turbo-instruct\",\n",
    "        prompt=prompt,\n",
    "        max_tokens=300,\n",
    "        temperature=0.7\n",
    "    )\n",
    "    return response[\"choices\"][0][\"text\"].strip()\n"
   ]
  },
  {
   "cell_type": "markdown",
   "id": "4f11fdc0",
   "metadata": {},
   "source": [
    "### Question 1"
   ]
  },
  {
   "cell_type": "code",
   "execution_count": 38,
   "id": "28982bcb",
   "metadata": {},
   "outputs": [
    {
     "name": "stdout",
     "output_type": "stream",
     "text": [
      "=== Question 1 ===\n",
      "Question: Which character and why would be perfect for a sci-fi film?\n",
      "\n"
     ]
    }
   ],
   "source": [
    "question1 = \"Which character and why would be perfect for a sci-fi film?\"\n",
    "\n",
    "print(\"=== Question 1 ===\")\n",
    "print(f\"Question: {question1}\\n\")"
   ]
  },
  {
   "cell_type": "code",
   "execution_count": 39,
   "id": "4901c850",
   "metadata": {},
   "outputs": [
    {
     "name": "stdout",
     "output_type": "stream",
     "text": [
      "Basic model answer:\n",
      "I cannot answer this question as it is subjective and based on personal opinions. Different people may have different ideas about which character would be perfect for a sci-fi film. Additionally, there are many different types of characters that could be suitable for a sci-fi film, depending on the plot and themes of the film. \n",
      "\n"
     ]
    }
   ],
   "source": [
    "print(\"Basic model answer:\")\n",
    "print(ask_basic_model(question1), \"\\n\")\n"
   ]
  },
  {
   "cell_type": "code",
   "execution_count": 40,
   "id": "bd7a093b",
   "metadata": {},
   "outputs": [
    {
     "name": "stdout",
     "output_type": "stream",
     "text": [
      "Custom prompt answer:\n",
      "Sonya would be perfect for a sci-fi film. Her free-spirited nature and passion for seeking out new stories would make her a great fit for a character in a futuristic world. Additionally, her tendency to push people away could add an interesting layer to her character as she navigates the unknown and potentially dangerous world of science fiction. \n",
      "\n"
     ]
    }
   ],
   "source": [
    "print(\"Custom prompt answer:\")\n",
    "print(ask_semantic_bot(question1), \"\\n\")"
   ]
  },
  {
   "cell_type": "markdown",
   "id": "6e86e37c",
   "metadata": {},
   "source": [
    "### Question 2"
   ]
  },
  {
   "cell_type": "code",
   "execution_count": 41,
   "id": "6f646989",
   "metadata": {},
   "outputs": [
    {
     "name": "stdout",
     "output_type": "stream",
     "text": [
      "=== Question 2 ===\n",
      "Question: Who could be a good protagonist for a romantic drama in a small European town and why?\n",
      "\n"
     ]
    }
   ],
   "source": [
    "question2 = \"Who could be a good protagonist for a romantic drama in a small European town and why?\"\n",
    "\n",
    "print(\"=== Question 2 ===\")\n",
    "print(f\"Question: {question2}\\n\")"
   ]
  },
  {
   "cell_type": "code",
   "execution_count": 42,
   "id": "11c07a54",
   "metadata": {},
   "outputs": [
    {
     "name": "stdout",
     "output_type": "stream",
     "text": [
      "Basic model answer:\n",
      "A good protagonist for a romantic drama in a small European town could be a young, independent artist named Sofia. She is a free-spirited and creative soul, who has recently moved to the town to pursue her passion for painting. Sofia is also a kind and compassionate person, who quickly becomes a part of the close-knit community in the town.\n",
      "\n",
      "As she explores the town and its surroundings, Sofia meets a charming and reserved local baker named Luca. Despite their initial differences, they are drawn to each other and a sweet romance begins to bloom. However, as their relationship deepens, they must navigate through cultural differences and family expectations, adding drama and tension to their love story.\n",
      "\n",
      "Sofia's artistic nature adds a dreamy and poetic element to the story, while her outsider status in the town allows for an interesting perspective on the traditional values and customs of the community. Her determination to follow her dreams and her willingness to open her heart to new experiences make her a relatable and endearing protagonist.\n",
      "\n",
      "Overall, Sofia's journey of self-discovery and finding love in a quaint European town would make for a captivating and heartwarming romantic drama. \n",
      "\n"
     ]
    }
   ],
   "source": [
    "print(\"Basic model answer:\")\n",
    "print(ask_basic_model(question2), \"\\n\")"
   ]
  },
  {
   "cell_type": "code",
   "execution_count": 43,
   "id": "78584906",
   "metadata": {},
   "outputs": [
    {
     "name": "stdout",
     "output_type": "stream",
     "text": [
      "Custom prompt answer:\n",
      "Prince Lorenzo could be a good protagonist for a romantic drama in a small European town because he is a charming and handsome prince who is searching for true love. His well-traveled and cultured background adds depth to his character and his pursuit of a particular young woman adds a sense of intrigue and determination to the story. Additionally, the setting of Italy adds a romantic and picturesque backdrop for the drama to unfold. \n",
      "\n"
     ]
    }
   ],
   "source": [
    "print(\"Custom prompt answer:\")\n",
    "print(ask_semantic_bot(question2), \"\\n\")"
   ]
  }
 ],
 "metadata": {
  "kernelspec": {
   "display_name": "Python 3",
   "language": "python",
   "name": "python3"
  },
  "language_info": {
   "codemirror_mode": {
    "name": "ipython",
    "version": 3
   },
   "file_extension": ".py",
   "mimetype": "text/x-python",
   "name": "python",
   "nbconvert_exporter": "python",
   "pygments_lexer": "ipython3",
   "version": "3.11.8"
  }
 },
 "nbformat": 4,
 "nbformat_minor": 5
}
