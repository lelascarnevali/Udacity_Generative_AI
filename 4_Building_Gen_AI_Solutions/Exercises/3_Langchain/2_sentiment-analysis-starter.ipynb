{
 "cells": [
  {
   "cell_type": "code",
   "execution_count": 1,
   "metadata": {},
   "outputs": [],
   "source": [
    "# Add prereq code to set open API key\n",
    "import getpass \n",
    "\n",
    "# Define OpenAI API key \n",
    "api_key = getpass.getpass(\"Enter your API Key: \").strip()\n",
    "\n",
    "import warnings\n",
    "\n",
    "warnings.filterwarnings(\"ignore\")\n",
    "\n",
    "import os\n",
    "os.environ[\"OPENAI_API_KEY\"] = api_key\n",
    "os.environ[\"OPENAI_API_BASE\"] = \"https://openai.vocareum.com/v1\""
   ]
  },
  {
   "cell_type": "code",
   "execution_count": 2,
   "metadata": {},
   "outputs": [],
   "source": [
    "# from langchain.llms import OpenAI # this code has been deprecated since recording.\n",
    "from langchain.chat_models import ChatOpenAI # this is the replacement \n",
    "from langchain.prompts import PromptTemplate\n",
    "from langchain.output_parsers import PydanticOutputParser\n",
    "from pydantic import BaseModel, Field, NonNegativeInt\n",
    "from typing import List\n",
    "from random import sample \n",
    "from langchain.document_loaders import CSVLoader"
   ]
  },
  {
   "cell_type": "markdown",
   "metadata": {},
   "source": [
    "First, let's create a loader and load reviews from tv-reviews.csv into memory"
   ]
  },
  {
   "cell_type": "code",
   "execution_count": 3,
   "metadata": {},
   "outputs": [],
   "source": [
    "# TODO: load reviews from tv-reviews.csv\n",
    "loader = CSVLoader(file_path=\"data/tv-reviews.csv\", source_column=\"Review Text\")\n",
    "reviews = loader.load()"
   ]
  },
  {
   "cell_type": "markdown",
   "metadata": {},
   "source": [
    "Then, let's initialize our LLM"
   ]
  },
  {
   "cell_type": "code",
   "execution_count": null,
   "metadata": {},
   "outputs": [],
   "source": [
    "# TODO: initialize OpenAI object with your API key\n",
    "llm = ChatOpenAI(\n",
    "    openai_api_key=api_key,\n",
    "    openai_api_base=os.environ[\"OPENAI_API_BASE\"],\n",
    "    model=\"gpt-3.5-turbo\",\n",
    "    temperature=0, \n",
    "    max_tokens=1000\n",
    ")"
   ]
  },
  {
   "cell_type": "markdown",
   "metadata": {},
   "source": [
    "Now, let's setup our parser and a template  - \n",
    "\n",
    "**Note**  that since recording, the code to initialize the model has been updated to \n",
    "\n",
    "`llm = ChatOpenAI()`"
   ]
  },
  {
   "cell_type": "code",
   "execution_count": 5,
   "metadata": {},
   "outputs": [],
   "source": [
    "class ReviewSentiment(BaseModel):\n",
    "    positives: List[NonNegativeInt] = Field(description=\"index of a positive TV review, starting from 0\")\n",
    "    negatives: List[NonNegativeInt] = Field(description=\"index of a negative TV review, starting from 0\")\n",
    "        \n",
    "parser = PydanticOutputParser(pydantic_object=ReviewSentiment)\n",
    "# TODO: setup a template with partial and input variables\n",
    "prompt = PromptTemplate(\n",
    "    template=\"\"\"\n",
    "    Context:\n",
    "    {context}\n",
    "    ---\n",
    "    Question:\n",
    "    {question}\n",
    "    Output format: {format_instructions}\n",
    "    \"\"\",\n",
    "    input_variables=[\"context\", \"question\"],\n",
    "    partial_variables={\"format_instructions\": parser.get_format_instructions},\n",
    ")\n",
    "\n",
    "question = \"\"\"\n",
    "    Classify TV reviews provided in the context into positive and negative. \n",
    "    Only use the reviews provided in this context, do not make up new reviews or use any existing information you know about these TVs. \n",
    "    If there are no positive or negative reviews, output an empty JSON array. \n",
    "\"\"\""
   ]
  },
  {
   "cell_type": "markdown",
   "metadata": {},
   "source": [
    "Pick 3 sample reviews to classify - LLMs have a limited context window they can work with. In later exercises, we'll see how to deal with that differently"
   ]
  },
  {
   "cell_type": "code",
   "execution_count": 6,
   "metadata": {},
   "outputs": [
    {
     "name": "stdout",
     "output_type": "stream",
     "text": [
      "\n",
      "    Context:\n",
      "    TV Name: Imagix Pro\n",
      "Review Title: Exceptional Customer Service\n",
      "Review Rating: 10\n",
      "Review Text: I had a minor issue with my Imagix Pro, but the customer service team was exceptional. They were prompt in addressing my concern and guided me through the troubleshooting process. They even offered a quick replacement when the issue persisted. Kudos to their excellent support!\n",
      "TV Name: VisionMax Ultra\n",
      "Review Title: Unresponsive Remote Control\n",
      "Review Rating: 4\n",
      "Review Text: One major drawback of the VisionMax Ultra is the unresponsive remote control. It often takes multiple presses for the TV to register the command. It's frustrating, especially when navigating through menus or adjusting settings. The remote control definitely needs improvement.\n",
      "TV Name: Imagix Pro\n",
      "Review Title: Unmatched Clarity\n",
      "Review Rating: 10\n",
      "Review Text: I cannot express enough how impressed I am with the clarity of the Imagix Pro. Every detail is so sharp and lifelike, it's like I can reach out and touch the images on the screen. The colors are vibrant and realistic, making everything look stunning. It truly enhances my movie-watching experience!\n",
      "TV Name: VisionMax Ultra\n",
      "Review Title: Value for Money\n",
      "Review Rating: 8\n",
      "Review Text: The VisionMax Ultra offers exceptional value for money. Compared to other high-end TVs in the market, it provides similar performance at a more affordable price. The picture quality and smart features make it a worthwhile investment. Highly recommended!\n",
      "    ---\n",
      "    Question:\n",
      "    \n",
      "    Classify TV reviews provided in the context into positive and negative. \n",
      "    Only use the reviews provided in this context, do not make up new reviews or use any existing information you know about these TVs. \n",
      "    If there are no positive or negative reviews, output an empty JSON array. \n",
      "\n",
      "    Output format: The output should be formatted as a JSON instance that conforms to the JSON schema below.\n",
      "\n",
      "As an example, for the schema {\"properties\": {\"foo\": {\"title\": \"Foo\", \"description\": \"a list of strings\", \"type\": \"array\", \"items\": {\"type\": \"string\"}}}, \"required\": [\"foo\"]}\n",
      "the object {\"foo\": [\"bar\", \"baz\"]} is a well-formatted instance of the schema. The object {\"properties\": {\"foo\": [\"bar\", \"baz\"]}} is not well-formatted.\n",
      "\n",
      "Here is the output schema:\n",
      "```\n",
      "{\"properties\": {\"positives\": {\"description\": \"index of a positive TV review, starting from 0\", \"items\": {\"minimum\": 0, \"type\": \"integer\"}, \"title\": \"Positives\", \"type\": \"array\"}, \"negatives\": {\"description\": \"index of a negative TV review, starting from 0\", \"items\": {\"minimum\": 0, \"type\": \"integer\"}, \"title\": \"Negatives\", \"type\": \"array\"}}, \"required\": [\"positives\", \"negatives\"]}\n",
      "```\n",
      "    \n"
     ]
    }
   ],
   "source": [
    "# TODO: pick 3 random reviews and save them into reviews_to_classify variable\n",
    "reviews_to_classify = sample(reviews, 4)\n",
    "context = '\\n'.join(review.page_content for review in reviews_to_classify)\n",
    "\n",
    "query = prompt.format(context = context, question = question)\n",
    "print(query)"
   ]
  },
  {
   "cell_type": "markdown",
   "metadata": {},
   "source": [
    "# generate textual prompt from the prompt template\n",
    "question = \"\"\"\n",
    "    Review TVs provided in the context. \n",
    "    Only use the reviews provided in this context, do not make up new reviews or use any existing information you know about these TVs. \n",
    "    If there are no positive or negative reviews, output an empty JSON array. \n",
    "\"\"\"\n",
    "query = prompt.format(context = context, question = question)"
   ]
  },
  {
   "cell_type": "markdown",
   "metadata": {},
   "source": [
    "Finally, let's send our query to LLM and use the parser we setup to parse an output into a Python object\n",
    "\n",
    "**NOTE**: Since recording the code to feed the query to the llm has been updated to\n",
    "\n",
    "`llm.predict(query)`"
   ]
  },
  {
   "cell_type": "code",
   "execution_count": 7,
   "metadata": {},
   "outputs": [
    {
     "name": "stdout",
     "output_type": "stream",
     "text": [
      "{\n",
      "    \"positives\": [0, 2],\n",
      "    \"negatives\": [1, 3]\n",
      "}\n",
      "positives=[0, 2] negatives=[1, 3]\n",
      "Positives:\n",
      "TV Name: Imagix Pro\n",
      "Review Title: Exceptional Customer Service\n",
      "Review Rating: 10\n",
      "Review Text: I had a minor issue with my Imagix Pro, but the customer service team was exceptional. They were prompt in addressing my concern and guided me through the troubleshooting process. They even offered a quick replacement when the issue persisted. Kudos to their excellent support!\n",
      "TV Name: Imagix Pro\n",
      "Review Title: Unmatched Clarity\n",
      "Review Rating: 10\n",
      "Review Text: I cannot express enough how impressed I am with the clarity of the Imagix Pro. Every detail is so sharp and lifelike, it's like I can reach out and touch the images on the screen. The colors are vibrant and realistic, making everything look stunning. It truly enhances my movie-watching experience!\n",
      "Negatives:\n",
      "TV Name: VisionMax Ultra\n",
      "Review Title: Unresponsive Remote Control\n",
      "Review Rating: 4\n",
      "Review Text: One major drawback of the VisionMax Ultra is the unresponsive remote control. It often takes multiple presses for the TV to register the command. It's frustrating, especially when navigating through menus or adjusting settings. The remote control definitely needs improvement.\n",
      "TV Name: VisionMax Ultra\n",
      "Review Title: Value for Money\n",
      "Review Rating: 8\n",
      "Review Text: The VisionMax Ultra offers exceptional value for money. Compared to other high-end TVs in the market, it provides similar performance at a more affordable price. The picture quality and smart features make it a worthwhile investment. Highly recommended!\n"
     ]
    }
   ],
   "source": [
    "# TODO: query LLM, then parse output into the result variable\n",
    "output = llm.predict(query)\n",
    "print(output)\n",
    "result = parser.parse(output)\n",
    "print(result)\n",
    "\n",
    "print(\"Positives:\\n\" + \"\\n\".join([reviews_to_classify[i].page_content for i in result.positives]))\n",
    "print(\"Negatives:\\n\" + \"\\n\".join([reviews_to_classify[i].page_content for i in result.negatives]))"
   ]
  }
 ],
 "metadata": {
  "kernelspec": {
   "display_name": "Python 3",
   "language": "python",
   "name": "python3"
  },
  "language_info": {
   "codemirror_mode": {
    "name": "ipython",
    "version": 3
   },
   "file_extension": ".py",
   "mimetype": "text/x-python",
   "name": "python",
   "nbconvert_exporter": "python",
   "pygments_lexer": "ipython3",
   "version": "3.10.16"
  }
 },
 "nbformat": 4,
 "nbformat_minor": 2
}
