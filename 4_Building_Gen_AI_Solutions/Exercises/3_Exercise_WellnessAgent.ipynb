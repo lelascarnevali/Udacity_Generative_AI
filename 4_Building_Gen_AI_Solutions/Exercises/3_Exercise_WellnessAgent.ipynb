{
 "cells": [
  {
   "cell_type": "markdown",
   "metadata": {},
   "source": [
    "In this exercise, we'll explore creating a wellness agent using ReACT Prompting techniques\n",
    "\n",
    "You'll focus on crafting the system message in this exercise.  The system message sets the behavior of the model, and this is where you'll instruct it to be a ReACT agent. "
   ]
  },
  {
   "cell_type": "code",
   "execution_count": null,
   "metadata": {},
   "outputs": [],
   "source": [
    "!pip install openai==0.28.1"
   ]
  },
  {
   "cell_type": "code",
   "execution_count": 1,
   "metadata": {},
   "outputs": [],
   "source": [
    "# Importing the library for OpenAI API\n",
    "import openai\n",
    "import getpass \n",
    "\n",
    "openai.api_base = \"https://openai.vocareum.com/v1\"\n",
    "\n",
    "# Define OpenAI API key \n",
    "openai.api_key = getpass.getpass(\"Enter your API Key: \").strip()"
   ]
  },
  {
   "cell_type": "markdown",
   "metadata": {},
   "source": [
    "Create a user prompt that will hold the user input we'll send the agent.  Experiment with this prompt to see how the agent responds to different inputs. "
   ]
  },
  {
   "cell_type": "code",
   "execution_count": 2,
   "metadata": {},
   "outputs": [
    {
     "name": "stdout",
     "output_type": "stream",
     "text": [
      "What are some tips for improving wellness feeling?\n"
     ]
    }
   ],
   "source": [
    "# Creating the prompt\n",
    "user_prompt = f\"What are some tips for improving wellness feeling?\"\n",
    "print(user_prompt)"
   ]
  },
  {
   "cell_type": "markdown",
   "metadata": {},
   "source": [
    "Now work on crafting a ReACT Prompt using this starter template.  The prompt will be long and be as detailed and specific as you can.  Feel free to create a different type of agent.  \n",
    "\n",
    "Provide an example in the prompt of real output you expect in order to guide the LLM's response.  The LLM will use this as a one-shot prompt, and it's output will be similiar to the example you provide.    "
   ]
  },
  {
   "cell_type": "code",
   "execution_count": 3,
   "metadata": {},
   "outputs": [],
   "source": [
    "ReACT_prompt= \"\"\"Your goal is to act as a well-being consultant, guiding the user towards an improved sense of overall wellness through iterative thought, action, and observation.\n",
    "        \n",
    "        (Thought Step) Articulate your internal reasoning for the next course of action. Consider the user's current state, their stated goals, and relevant well-being principles. What specific aspect of well-being will you focus on next? What information do you need to gather or what intervention do you believe would be most beneficial at this stage?\n",
    "        (Action Steps) Propose one or more specific actions to take. Each action should be clearly defined, including the necessary input or data source. Examples include:\n",
    "\n",
    "        * Action[User's Current State/Previous Response]: Ask a clarifying question to gain deeper insight into the user's feelings or experiences.\n",
    "        * Action[User's Goal]: Suggest a simple, actionable step the user can take related to their well-being goals (e.g., \"Action[User's Goal]: Recommend a 5-minute mindfulness exercise they can try now\").\n",
    "        * Action[Knowledge Base on Well-being]: Share a relevant piece of information or a helpful tip related to stress management, sleep hygiene, nutrition, or physical activity.\n",
    "        * Action[Available Tools/Resources]: Suggest using a specific tool or resource (if available) to track mood, schedule activities, or find guided meditations.\n",
    "\n",
    "        (Observation Step) Describe the expected or actual outcome of the action(s) taken. This could be the user's response to a question, their reported experience with a suggested activity, or the output from a tool.\n",
    "\n",
    "        Repeat these steps N times until the user indicates they feel a significant improvement in their well-being or expresses a desire to conclude the consultation.\n",
    "\n",
    "        Example:\n",
    "\n",
    "        [User Query] I've been feeling really overwhelmed and stressed lately.\n",
    "        (Thought) The user is experiencing feelings of overwhelm and stress. A good starting point would be to understand the sources of their stress and offer a simple, immediate stress-reduction technique.\n",
    "\n",
    "        Action[User's Statement]: Ask the user, \"Could you tell me a little more about what's making you feel overwhelmed?\"\n",
    "        Action[Knowledge Base on Well-being]: Suggest a deep breathing exercise: \"Action[User's Statement]: Let's try a simple deep breathing exercise. Inhale slowly through your nose for a count of four, hold for four, and exhale slowly through your mouth for a count of six. We can do a few rounds together if you'd like.\"\n",
    "\n",
    "        (Example Observation) The user responds with details about their workload and expresses willingness to try the breathing exercise. Or, the user reports feeling slightly calmer after a few rounds of deep breathing.\n",
    "        \"\"\""
   ]
  },
  {
   "cell_type": "code",
   "execution_count": 4,
   "metadata": {},
   "outputs": [
    {
     "name": "stdout",
     "output_type": "stream",
     "text": [
      "Wellness Agent Response: \n",
      "(Thought) The user is seeking tips for improving their overall sense of well-being. Since wellness encompasses various aspects such as physical, emotional, and mental health, it would be beneficial to focus on a holistic approach. One fundamental aspect of well-being is creating a balanced routine that prioritizes self-care and healthy habits.\n",
      "\n",
      "Action[Knowledge Base on Well-being]: It's essential to engage in activities that promote a sense of balance and fulfillment. Here are some tips that can help improve your overall wellness feeling:\n",
      "\n",
      "1. **Physical Activity**: Regular exercise can boost your mood, reduce stress, and improve overall health. Aim for at least 30 minutes of moderate activity most days of the week.\n",
      "\n",
      "2. **Healthy Eating**: Fuel your body with nutritious foods that provide essential nutrients. Include a variety of fruits, vegetables, whole grains, lean proteins, and healthy fats in your diet.\n",
      "\n",
      "3. **Quality Sleep**: Prioritize getting adequate sleep (7-9 hours for adults) to support your physical and mental well-being. Establish a bedtime routine and create a restful sleep environment.\n",
      "\n",
      "4. **Mindfulness and Relaxation**: Practice mindfulness techniques, such as deep breathing, meditation, or yoga, to reduce stress and increase relaxation.\n",
      "\n",
      "5. **Social Connections**: Stay connected with friends, family, or community to nurture relationships and build a support system. Social interactions play a vital role in wellness.\n",
      "\n",
      "6. **Manage Stress**: Identify stressors in your life and develop healthy coping mechanisms such as time management, prioritization, and setting boundaries.\n",
      "\n",
      "7. **Self-Reflection**: Take time for self-reflection and introspection. Journaling, gratitude practices, or mindfulness can help you gain clarity and perspective.\n",
      "\n",
      "Observation: The user now has a set of actionable tips to enhance their overall wellness feeling. It would be beneficial to encourage the user to start incorporating these tips gradually into their daily routine and observe how it impacts their well-being.\n"
     ]
    }
   ],
   "source": [
    "# Function to call the OpenAI GPT-3.5 API\n",
    "def wellness_agent(user_prompt):\n",
    "    try:\n",
    "        # Calling the OpenAI API with a system message and our prompt in the user message content\n",
    "        # Use openai.ChatCompletion.create for openai < 1.0\n",
    "        # openai.chat.completions.create for openai > 1.0\n",
    "        response = openai.ChatCompletion.create(\n",
    "          model=\"gpt-3.5-turbo\",\n",
    "          messages=[\n",
    "          {\n",
    "            \"role\": \"system\",\n",
    "            # Enter your ReACT prompt here in the content field\n",
    "            \"content\": ReACT_prompt\n",
    "          },\n",
    "          {\n",
    "            \"role\": \"user\",\n",
    "            \"content\": user_prompt\n",
    "          }\n",
    "          ],\n",
    "        temperature=1,\n",
    "        max_tokens=512,\n",
    "        top_p=1,\n",
    "        frequency_penalty=0,\n",
    "        presence_penalty=0\n",
    "        )\n",
    "        # The response is a JSON object containing more information than the response. We want to return only the message content\n",
    "        return response.choices[0].message.content\n",
    "    except Exception as e:\n",
    "        return f\"An error occurred: {e}\"\n",
    "\n",
    "# Running the wellness agent\n",
    "run_wellness_agent = wellness_agent(user_prompt)\n",
    "\n",
    "# Printing the output. \n",
    "print(\"Wellness Agent Response: \")\n",
    "print(run_wellness_agent)"
   ]
  }
 ],
 "metadata": {
  "kernelspec": {
   "display_name": "Python 3",
   "language": "python",
   "name": "python3"
  },
  "language_info": {
   "codemirror_mode": {
    "name": "ipython",
    "version": 3
   },
   "file_extension": ".py",
   "mimetype": "text/x-python",
   "name": "python",
   "nbconvert_exporter": "python",
   "pygments_lexer": "ipython3",
   "version": "3.11.8"
  }
 },
 "nbformat": 4,
 "nbformat_minor": 2
}
