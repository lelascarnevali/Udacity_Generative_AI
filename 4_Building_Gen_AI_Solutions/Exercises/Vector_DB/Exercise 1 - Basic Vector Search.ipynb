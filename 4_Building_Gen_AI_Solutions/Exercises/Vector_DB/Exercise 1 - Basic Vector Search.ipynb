{
 "cells": [
  {
   "cell_type": "markdown",
   "id": "24cbe1ac",
   "metadata": {},
   "source": [
    "# Basic Vector Search from Scratch\n",
    "\n",
    "For this exercise we will implement basic vector search\n",
    "from scratch with just numpy.<br/>\n",
    "This will give us a feel\n",
    "for what's happening under the hood in vector databases."
   ]
  },
  {
   "cell_type": "code",
   "execution_count": null,
   "id": "25b3a7a8-c5d0-4366-8c9c-657cb00124d2",
   "metadata": {},
   "outputs": [],
   "source": [
    "!pip install numpy pytest"
   ]
  },
  {
   "cell_type": "markdown",
   "id": "68a86f4f",
   "metadata": {},
   "source": [
    "## Euclidean distance\n",
    "\n",
    "There are many ways to measure the distance between two vectors.\n",
    "Let's write a function that computes the `Euclidean distance` \n",
    "between vectors. \n",
    "\n",
    "This function should take as input two vectors and return\n",
    "the euclidean distance between them.\n",
    "\n",
    "For more details you can read this [kaggle page](https://www.kaggle.com/code/paulrohan2020/euclidean-distance-and-normalizing-a-vector)\n"
   ]
  },
  {
   "cell_type": "code",
   "execution_count": 1,
   "id": "88be0502",
   "metadata": {},
   "outputs": [],
   "source": [
    "import numpy as np"
   ]
  },
  {
   "cell_type": "code",
   "execution_count": 2,
   "id": "c731f8e8",
   "metadata": {},
   "outputs": [],
   "source": [
    "def euclidean_distance(v1: np.ndarray, v2: np.ndarray) -> float:\n",
    "    \"\"\"\n",
    "    Compute the Euclidean distance between two vectors.\n",
    "\n",
    "    Parameters\n",
    "    ----------\n",
    "    v1 : np.ndarray\n",
    "        First vector.\n",
    "    v2 : np.ndarray\n",
    "        Second vector.\n",
    "\n",
    "    Returns\n",
    "    -------\n",
    "    float\n",
    "        Euclidean distance between `v1` and `v2`.\n",
    "    \"\"\"\n",
    "    if v1.shape != v2.shape:\n",
    "        raise ValueError(\"Vectors must have the same shape.\")\n",
    "    return np.linalg.norm(v1 - v2)"
   ]
  },
  {
   "cell_type": "markdown",
   "id": "cc6760a2",
   "metadata": {},
   "source": [
    "## KNN search\n",
    "\n",
    "Using the distance function you just wrote, write a function that \n",
    "finds the k-nearest neighbors of a query vector.\n",
    "\n",
    "This function should take as input a query vector, a 2d array of database vectors,\n",
    "and an integer k the number of nearest neighbors to return. And it should return \n",
    "the vectors that are the k-nearest neighbors of the query vector.\n"
   ]
  },
  {
   "cell_type": "code",
   "execution_count": 3,
   "id": "68124b99",
   "metadata": {},
   "outputs": [],
   "source": [
    "def find_nearest_neighbors(query: np.ndarray,\n",
    "                           vectors: np.ndarray,\n",
    "                           k: int = 1) -> np.ndarray:\n",
    "    \"\"\"\n",
    "    Find k-nearest neighbors of a query vector.\n",
    "\n",
    "    Parameters\n",
    "    ----------\n",
    "    query : np.ndarray\n",
    "        Query vector.\n",
    "    vectors : np.ndarray\n",
    "        Vectors to search.\n",
    "    k : int, optional\n",
    "        Number of nearest neighbors to return, by default 1.\n",
    "\n",
    "    Returns\n",
    "    -------\n",
    "    np.ndarray\n",
    "        The `k` nearest neighbors of `query` in `vectors`.\n",
    "    \"\"\"\n",
    "    if k < 1:\n",
    "        raise ValueError(\"k must be at least 1.\")\n",
    "    if k > vectors.shape[0]:\n",
    "        raise ValueError(\"k must not exceed the number of vectors.\")\n",
    "    distances = np.array([euclidean_distance(query, v) for v in vectors])\n",
    "    nearest_indices = np.argsort(distances)[:k]\n",
    "    return vectors[nearest_indices]"
   ]
  },
  {
   "cell_type": "markdown",
   "id": "5eabd7ba",
   "metadata": {},
   "source": [
    "## Other distance metrics\n",
    "\n",
    "For this problem we'll write a new distance function and modify \n",
    "our nearest neighbors function to accept a distance metric.\n"
   ]
  },
  {
   "cell_type": "markdown",
   "id": "d138be2c",
   "metadata": {},
   "source": [
    "Write a function that computes the [cosine distance](https://en.wikipedia.org/wiki/Cosine_similarity) between vectors."
   ]
  },
  {
   "cell_type": "code",
   "execution_count": 4,
   "id": "b91848ed",
   "metadata": {},
   "outputs": [],
   "source": [
    "from typing import Union\n",
    "\n",
    "def cosine_distance(v1: np.ndarray, v2: np.ndarray) -> Union[float, np.ndarray]:\n",
    "    \"\"\"\n",
    "    Compute the cosine distance between two vectors.\n",
    "\n",
    "    Parameters\n",
    "    ----------\n",
    "    v1 : np.ndarray\n",
    "        First vector.\n",
    "    v2 : np.ndarray\n",
    "        Second vector.\n",
    "\n",
    "    Returns\n",
    "    -------\n",
    "    float\n",
    "        Cosine distance between `v1` and `v2`.\n",
    "    \"\"\"\n",
    "    if v1.shape != v2.shape:\n",
    "        raise ValueError(\"Vectors must have the same shape.\")\n",
    "    dot_product = np.dot(v1, v2)\n",
    "    norm_v1 = np.linalg.norm(v1)\n",
    "    norm_v2 = np.linalg.norm(v2)\n",
    "    if norm_v1 == 0 or norm_v2 == 0:\n",
    "        raise ValueError(\"One of the vectors is zero.\")\n",
    "    return 1 - (dot_product / (norm_v1 * norm_v2))"
   ]
  },
  {
   "cell_type": "markdown",
   "id": "c1d1c4d4",
   "metadata": {},
   "source": [
    "**HINT** Please make sure you understand the difference between cosine similarity and cosine distance"
   ]
  },
  {
   "cell_type": "markdown",
   "id": "e2c176d9",
   "metadata": {},
   "source": [
    "Now, rewrite the `find_nearest_neighbors` function to accept a distance metric so you can use either Euclidean or Cosine distance"
   ]
  },
  {
   "cell_type": "code",
   "execution_count": 5,
   "id": "f54ab2f2",
   "metadata": {},
   "outputs": [],
   "source": [
    "def find_nearest_neighbors(query: np.ndarray,\n",
    "                           vectors: np.ndarray,\n",
    "                           k: int = 1,\n",
    "                           distance_metric=\"euclidean\") -> np.ndarray:\n",
    "    \"\"\"\n",
    "    Find k-nearest neighbors of a query vector with a configurable\n",
    "    distance metric.\n",
    "\n",
    "    Parameters\n",
    "    ----------\n",
    "    query : np.ndarray\n",
    "        Query vector.\n",
    "    vectors : np.ndarray\n",
    "        Vectors to search.\n",
    "    k : int, optional\n",
    "        Number of nearest neighbors to return, by default 1.\n",
    "    distance_metric : str, optional\n",
    "        Distance metric to use, by default \"euclidean\".\n",
    "\n",
    "    Returns\n",
    "    -------\n",
    "    np.ndarray\n",
    "        The `k` nearest neighbors of `query` in `vectors`.\n",
    "    \"\"\"\n",
    "    if k < 1:\n",
    "        raise ValueError(\"k must be at least 1.\")\n",
    "    if k > vectors.shape[0]:\n",
    "        raise ValueError(\"k must not exceed the number of vectors.\")\n",
    "    if distance_metric == \"euclidean\":\n",
    "        distances = np.array([euclidean_distance(query, v) for v in vectors])\n",
    "    elif distance_metric == \"cosine\":\n",
    "        distances = np.array([cosine_distance(query, v) for v in vectors])\n",
    "    else:\n",
    "        raise ValueError(f\"Unknown distance metric: {distance_metric}\")\n",
    "    nearest_indices = np.argsort(distances)[:k]\n",
    "    return vectors[nearest_indices]"
   ]
  },
  {
   "cell_type": "markdown",
   "id": "21548bed",
   "metadata": {},
   "source": [
    "## Exploration\n",
    "\n",
    "Now that we have a nearest neighbors function that accepts a distance metric, <br/>\n",
    "let's explore the differences between Euclidean distance and cosine distance.\n",
    "\n",
    "Would you expect same or different answers?"
   ]
  },
  {
   "cell_type": "code",
   "execution_count": 6,
   "id": "1133d29d",
   "metadata": {},
   "outputs": [],
   "source": [
    "# You might find this function useful\n",
    "\n",
    "def generate_vectors(num_vectors: int, num_dim: int,\n",
    "                     normalize: bool = True) -> np.ndarray:\n",
    "    \"\"\"\n",
    "    Generate random embedding vectors.\n",
    "\n",
    "    Parameters\n",
    "    ----------\n",
    "    num_vectors : int\n",
    "        Number of vectors to generate.\n",
    "    num_dim : int\n",
    "        Dimensionality of the vectors.\n",
    "    normalize : bool, optional\n",
    "        Whether to normalize the vectors, by default True.\n",
    "\n",
    "    Returns\n",
    "    -------\n",
    "    np.ndarray\n",
    "        Randomly generated `num_vectors` vectors with `num_dim` dimensions.\n",
    "    \"\"\"\n",
    "    vectors = np.random.rand(num_vectors, num_dim)\n",
    "    if normalize:\n",
    "        vectors /= np.linalg.norm(vectors, axis=1, keepdims=True)\n",
    "    return vectors"
   ]
  },
  {
   "cell_type": "code",
   "execution_count": 7,
   "id": "e557eb6b",
   "metadata": {},
   "outputs": [
    {
     "name": "stdout",
     "output_type": "stream",
     "text": [
      "Query Vector: [0.80636498 0.52121972 0.74415507 0.89949023 0.61875503]\n",
      "Generated Vectors:\n",
      " [[0.20415003 0.601279   0.27825146 0.68177622 0.23354579]\n",
      " [0.54384121 0.31200666 0.64159128 0.06749047 0.43668553]\n",
      " [0.56417267 0.43084884 0.53022862 0.41990873 0.19650124]\n",
      " [0.64436778 0.57988366 0.17021103 0.41594323 0.21574182]\n",
      " [0.64402178 0.31733336 0.52761181 0.28936737 0.34989683]\n",
      " [0.63492711 0.46717881 0.00216189 0.61476738 0.02584422]\n",
      " [0.08536769 0.74536814 0.60104077 0.24188502 0.1318344 ]\n",
      " [0.36746172 0.57368529 0.05404907 0.39545543 0.61363734]\n",
      " [0.54338715 0.62924478 0.29450522 0.46569972 0.07191556]\n",
      " [0.32538946 0.61333766 0.69953277 0.05211984 0.16086031]]\n",
      "\n",
      "Nearest Neighbors (Euclidean):\n",
      " [[0.56417267 0.43084884 0.53022862 0.41990873 0.19650124]\n",
      " [0.64402178 0.31733336 0.52761181 0.28936737 0.34989683]\n",
      " [0.64436778 0.57988366 0.17021103 0.41594323 0.21574182]]\n",
      "\n",
      "Nearest Neighbors (Cosine):\n",
      " [[0.56417267 0.43084884 0.53022862 0.41990873 0.19650124]\n",
      " [0.64402178 0.31733336 0.52761181 0.28936737 0.34989683]\n",
      " [0.64436778 0.57988366 0.17021103 0.41594323 0.21574182]]\n"
     ]
    }
   ],
   "source": [
    "# Generate random vectors\n",
    "num_vectors = 10\n",
    "num_dim = 5\n",
    "query_vector = np.random.rand(num_dim)\n",
    "vectors = generate_vectors(num_vectors, num_dim)\n",
    "\n",
    "# Find nearest neighbors using Euclidean distance\n",
    "euclidean_neighbors = find_nearest_neighbors(query_vector, vectors, k=3, distance_metric=\"euclidean\")\n",
    "\n",
    "# Find nearest neighbors using Cosine distance\n",
    "cosine_neighbors = find_nearest_neighbors(query_vector, vectors, k=3, distance_metric=\"cosine\")\n",
    "\n",
    "print(\"Query Vector:\", query_vector)\n",
    "print(\"Generated Vectors:\\n\", vectors)\n",
    "print(\"\\nNearest Neighbors (Euclidean):\\n\", euclidean_neighbors)\n",
    "print(\"\\nNearest Neighbors (Cosine):\\n\", cosine_neighbors)"
   ]
  }
 ],
 "metadata": {
  "kernelspec": {
   "display_name": "Python 3",
   "language": "python",
   "name": "python3"
  },
  "language_info": {
   "codemirror_mode": {
    "name": "ipython",
    "version": 3
   },
   "file_extension": ".py",
   "mimetype": "text/x-python",
   "name": "python",
   "nbconvert_exporter": "python",
   "pygments_lexer": "ipython3",
   "version": "3.11.8"
  }
 },
 "nbformat": 4,
 "nbformat_minor": 5
}
