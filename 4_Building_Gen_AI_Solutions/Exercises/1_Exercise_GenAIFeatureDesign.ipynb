{
 "cells": [
  {
   "cell_type": "markdown",
   "metadata": {},
   "source": [
    "In this exercise, you are tasked with creating an application that aggregates and summarizes restaurant reviews. Users will provide the name of a restaurant and the type of cuisine, and the application will generate a summary of the most prevalent sentiments found in online reviews for that specific restaurant and cuisine type.\n",
    "\n",
    "**Challenge** \n",
    "\n",
    "Develop a prompt template that guides the LLM to generate a concise, sentiment-focused summary based on user inputs: the restaurant name and the type of cuisine."
   ]
  },
  {
   "cell_type": "markdown",
   "metadata": {},
   "source": [
    "**Understand the User Inputs**\n",
    "\n",
    "Identify the essential user inputs for this task. In this scenario, you need:\n",
    "- Restaurant Name\n",
    "- Cuisine Type\n",
    "- Can you think of others to make your prompt more specific or flexible? "
   ]
  },
  {
   "cell_type": "code",
   "execution_count": 1,
   "metadata": {},
   "outputs": [],
   "source": [
    "# Create variables to store the user inputs\n",
    "restaurant_name = \"Carnevali's\"\n",
    "cuisine_type = \"pizzas\""
   ]
  },
  {
   "cell_type": "markdown",
   "metadata": {},
   "source": [
    "**Craft the Prompt**\n",
    "\n",
    "Compose a clear, concise instruction that will direct the LLM to generate a sentiment-focused summary for the specified restaurant and cuisine.\n",
    " - The prompt should be specific enough to guide the LLM towards the desired output \n",
    " - But also flexible enough to handle a range of restaurants and cuisines."
   ]
  },
  {
   "cell_type": "code",
   "execution_count": 2,
   "metadata": {},
   "outputs": [],
   "source": [
    "prompt = f\"Provide a summary of customer sentiments for {restaurant_name}, focusing on their {cuisine_type} cuisine type. Highlight key sentiments and trends observed in customer reviews. Include any notable mentions of specific dishes, service quality, and overall dining experience. Use a positive tone to reflect the restaurant's strengths and appeal to potential customers.\""
   ]
  },
  {
   "cell_type": "markdown",
   "metadata": {},
   "source": [
    "**Create the Prompt Template**\n",
    "\n",
    "Design a template that integrates the user inputs into the LLM prompt.\n",
    "Use brackets {} to denote where the user inputs should be placed. This makes the template dynamic, allowing for different restaurant names and cuisine types to be inserted into the prompt."
   ]
  },
  {
   "cell_type": "code",
   "execution_count": 11,
   "metadata": {},
   "outputs": [
    {
     "name": "stdout",
     "output_type": "stream",
     "text": [
      "Provide a summary of customer sentiments for Carnevali's, focusing on their pizzas cuisine type. Highlight key sentiments and trends observed in customer reviews. Include any notable mentions of specific dishes, service quality, and overall dining experience. Use a positive tone to reflect the restaurant's strengths and appeal to potential customers.The response must have less than 150 words.\n"
     ]
    }
   ],
   "source": [
    "prompt_template = prompt+\"The response must have less than 150 words.\"\n",
    "print(prompt_template)"
   ]
  },
  {
   "cell_type": "markdown",
   "metadata": {},
   "source": [
    "Now, call the OpenAI GPT-3.5 API with your prompt and see how the model responds"
   ]
  },
  {
   "cell_type": "code",
   "execution_count": 6,
   "metadata": {},
   "outputs": [
    {
     "name": "stdout",
     "output_type": "stream",
     "text": [
      "Digite sua API Key: ········\n"
     ]
    }
   ],
   "source": [
    "# Call the OpenAI API with your prompt and print the response\n",
    "import openai\n",
    "import getpass\n",
    "\n",
    "openai.api_base = \"https://openai.vocareum.com/v1\"\n",
    "openai.api_key = getpass.getpass(\"Digite sua API Key: \").strip()"
   ]
  },
  {
   "cell_type": "code",
   "execution_count": 12,
   "metadata": {},
   "outputs": [
    {
     "name": "stdout",
     "output_type": "stream",
     "text": [
      "Generated review:\n",
      "Carnevali's, known for its authentic pizzas, has garnered praise for their delectable Neapolitan-style pies. Customers rave about the thin, crispy crust and flavorful toppings, with the Margherita and Diavola pizzas standing out as favorites. The service at Carnevali's receives high marks for its attentiveness and friendly staff, enhancing the overall dining experience. Reviewers frequently mention the cozy ambiance, perfect for a casual meal or special occasions. If you're craving a taste of Italy in a warm and inviting setting, Carnevali's is a must-visit spot for pizza lovers.\n"
     ]
    }
   ],
   "source": [
    "def generate_restaurant_review(prompt_template):\n",
    "    try:\n",
    "\n",
    "        response = openai.ChatCompletion.create(\n",
    "          model=\"gpt-3.5-turbo\",\n",
    "          messages=[\n",
    "          {\n",
    "            \"role\": \"system\",\n",
    "            \"content\": \"You are a restaurant critic. You are writing about reviews of restaurants.\"\n",
    "          },\n",
    "          {\n",
    "            \"role\": \"user\",\n",
    "            \"content\": prompt_template\n",
    "          }\n",
    "          ],\n",
    "          max_tokens=256,\n",
    "        )\n",
    "        # The response is a JSON object containing more information than the generated review. We want to return only the message content\n",
    "        return response.choices[0].message['content'].strip()\n",
    "    except Exception as e:\n",
    "        return f\"An error occurred: {e}\"\n",
    "\n",
    "# Generating the response from the model\n",
    "review_summary = generate_restaurant_review(prompt_template)\n",
    "\n",
    "# Printing the output. \n",
    "print(\"Generated review:\")\n",
    "print(review_summary)"
   ]
  }
 ],
 "metadata": {
  "kernelspec": {
   "display_name": "Python 3 (ipykernel)",
   "language": "python",
   "name": "python3"
  },
  "language_info": {
   "codemirror_mode": {
    "name": "ipython",
    "version": 3
   },
   "file_extension": ".py",
   "mimetype": "text/x-python",
   "name": "python",
   "nbconvert_exporter": "python",
   "pygments_lexer": "ipython3",
   "version": "3.10.13"
  }
 },
 "nbformat": 4,
 "nbformat_minor": 2
}
